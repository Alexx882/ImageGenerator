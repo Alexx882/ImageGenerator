{
 "cells": [
  {
   "cell_type": "markdown",
   "metadata": {},
   "source": [
    "# High-Resolution Deep Convolutional Generative Adversarial Networks\n",
    "J. D. Curtó, I. C. Zarza, Fernando de la Torre, Irwin King, Michael R. Lyu"
   ]
  },
  {
   "cell_type": "markdown",
   "metadata": {},
   "source": [
    "## Data Preparation"
   ]
  },
  {
   "cell_type": "code",
   "execution_count": null,
   "metadata": {
    "tags": []
   },
   "outputs": [],
   "source": [
    "from crawler import crawler, purify_sources\n",
    "\n",
    "# load urls of images into local file\n",
    "crawler.run()\n",
    "purify_sources.purify()\n"
   ]
  },
  {
   "cell_type": "code",
   "execution_count": null,
   "metadata": {
    "tags": []
   },
   "outputs": [],
   "source": [
    "from crawler import downloader\n",
    "\n",
    "# download actual images into folder\n",
    "downloader.run()"
   ]
  },
  {
   "cell_type": "code",
   "execution_count": null,
   "metadata": {},
   "outputs": [],
   "source": [
    "from preprocessing import cropper\n",
    "\n",
    "cropper.crop_to_face()"
   ]
  },
  {
   "cell_type": "markdown",
   "metadata": {},
   "source": [
    "## Training"
   ]
  },
  {
   "cell_type": "code",
   "execution_count": 1,
   "metadata": {},
   "outputs": [
    {
     "output_type": "execute_result",
     "data": {
      "text/plain": "(60000, 28, 28, 1)"
     },
     "metadata": {},
     "execution_count": 1
    }
   ],
   "source": [
    "import tensorflow as tf\n",
    "# MNIST dataset\n",
    "(x_train, y_train), (x_test, y_test) = tf.keras.datasets.mnist.load_data()\n",
    "\n",
    "x_train = x_train.reshape(x_train.shape[0], x_train.shape[1], x_train.shape[2], 1) / 255.\n",
    "# x_train = x_train[:500,]\n",
    "x_train.shape"
   ]
  },
  {
   "cell_type": "code",
   "execution_count": 2,
   "metadata": {
    "tags": []
   },
   "outputs": [],
   "source": [
    "from gan import GAN, DCGAN\n",
    "\n",
    "gan = DCGAN(shape=(28,28,1))\n",
    "\n",
    "gan.set_training_data(x_train)"
   ]
  },
  {
   "cell_type": "code",
   "execution_count": null,
   "metadata": {
    "tags": []
   },
   "outputs": [],
   "source": [
    "gan.generator.summary()\n"
   ]
  },
  {
   "cell_type": "code",
   "execution_count": null,
   "metadata": {
    "tags": []
   },
   "outputs": [],
   "source": [
    "gan.discriminator.summary()"
   ]
  },
  {
   "cell_type": "code",
   "execution_count": 26,
   "metadata": {
    "tags": []
   },
   "outputs": [
    {
     "output_type": "stream",
     "name": "stdout",
     "text": "EPOCH 1.1 [D] loss: 0.29536154866218567 ; acc: 82.8125\nEPOCH 1.2 [D] loss: 0.2600044906139374 ; acc: 86.71875\nEPOCH 1.3 [D] loss: 0.2009027600288391 ; acc: 84.375\nEPOCH 1.4 [D] loss: 0.21963292360305786 ; acc: 88.28125\nEPOCH 1.5 [D] loss: 0.1902366429567337 ; acc: 90.625\nEPOCH 1.6 [D] loss: 0.20022161304950714 ; acc: 87.5\nEPOCH 1.7 [D] loss: 0.16931280493736267 ; acc: 91.40625\nEPOCH 1.8 [D] loss: 0.13898798823356628 ; acc: 91.40625\nEPOCH 1.9 [D] loss: 0.11315252631902695 ; acc: 96.875\nEPOCH 1.10 [D] loss: 0.06759881973266602 ; acc: 99.21875\nEPOCH 1.1 [G] loss: 2.04374098777771\nEPOCH 1.2 [G] loss: 1.790434718132019\nEPOCH 1.3 [G] loss: 1.3968491554260254\nEPOCH 1.4 [G] loss: 0.7666510343551636\nEPOCH 1.5 [G] loss: 0.8654811978340149\nEPOCH 1.6 [G] loss: 0.6717703342437744\nEPOCH 1.7 [G] loss: 0.8919529914855957\nEPOCH 1.8 [G] loss: 0.7569372057914734\nEPOCH 1.9 [G] loss: 1.0099674463272095\nEPOCH 1.10 [G] loss: 0.9960393905639648\nEPOCH 2.1 [D] loss: 0.28135946393013 ; acc: 85.9375\nEPOCH 2.2 [D] loss: 0.19236427545547485 ; acc: 92.1875\nEPOCH 2.3 [D] loss: 0.17644144594669342 ; acc: 93.75\nEPOCH 2.4 [D] loss: 0.13286490738391876 ; acc: 96.875\nEPOCH 2.5 [D] loss: 0.11911560595035553 ; acc: 98.4375\nEPOCH 2.6 [D] loss: 0.10718655586242676 ; acc: 99.21875\nEPOCH 2.7 [D] loss: 0.06247658282518387 ; acc: 99.21875\nEPOCH 2.8 [D] loss: 0.06103069707751274 ; acc: 100.0\nEPOCH 2.9 [D] loss: 0.06241500377655029 ; acc: 100.0\nEPOCH 2.10 [D] loss: 0.0954500287771225 ; acc: 97.65625\nEPOCH 2.1 [G] loss: 2.0056827068328857\nEPOCH 2.2 [G] loss: 2.8104021549224854\nEPOCH 2.3 [G] loss: 1.7348639965057373\nEPOCH 2.4 [G] loss: 1.3379027843475342\nEPOCH 2.5 [G] loss: 1.1633021831512451\nEPOCH 2.6 [G] loss: 1.1887052059173584\nEPOCH 2.7 [G] loss: 0.9531817436218262\nEPOCH 2.8 [G] loss: 0.9639132022857666\nEPOCH 2.9 [G] loss: 0.8293561935424805\nEPOCH 2.10 [G] loss: 1.0346237421035767\nEPOCH 3.1 [D] loss: 0.26128289103507996 ; acc: 87.5\nEPOCH 3.2 [D] loss: 0.23772414028644562 ; acc: 89.84375\nEPOCH 3.3 [D] loss: 0.20173031091690063 ; acc: 92.1875\nEPOCH 3.4 [D] loss: 0.20499685406684875 ; acc: 96.09375\nEPOCH 3.5 [D] loss: 0.1243990808725357 ; acc: 97.65625\nEPOCH 3.6 [D] loss: 0.12188443541526794 ; acc: 98.4375\nEPOCH 3.7 [D] loss: 0.12224723398685455 ; acc: 100.0\nEPOCH 3.8 [D] loss: 0.09516820311546326 ; acc: 100.0\nEPOCH 3.9 [D] loss: 0.12839560210704803 ; acc: 99.21875\nEPOCH 3.10 [D] loss: 0.13204103708267212 ; acc: 98.4375\nEPOCH 3.1 [G] loss: 1.5901559591293335\nEPOCH 3.2 [G] loss: 1.5570249557495117\nEPOCH 3.3 [G] loss: 1.3988182544708252\nEPOCH 3.4 [G] loss: 0.9990832209587097\nEPOCH 3.5 [G] loss: 0.9422566890716553\nEPOCH 3.6 [G] loss: 0.7569875717163086\nEPOCH 3.7 [G] loss: 0.713263988494873\nEPOCH 3.8 [G] loss: 0.6335678100585938\nEPOCH 3.9 [G] loss: 0.6243566274642944\nEPOCH 3.10 [G] loss: 0.5868692994117737\nEPOCH 4.1 [D] loss: 0.30972665548324585 ; acc: 78.125\nEPOCH 4.2 [D] loss: 0.26335030794143677 ; acc: 91.40625\nEPOCH 4.3 [D] loss: 0.22616657614707947 ; acc: 95.3125\nEPOCH 4.4 [D] loss: 0.20042672753334045 ; acc: 93.75\nEPOCH 4.5 [D] loss: 0.18403266370296478 ; acc: 96.09375\nEPOCH 4.6 [D] loss: 0.1529429852962494 ; acc: 100.0\nEPOCH 4.7 [D] loss: 0.146446093916893 ; acc: 99.21875\nEPOCH 4.8 [D] loss: 0.15131889283657074 ; acc: 98.4375\nEPOCH 4.9 [D] loss: 0.1642061024904251 ; acc: 98.4375\nEPOCH 4.10 [D] loss: 0.14012643694877625 ; acc: 100.0\nEPOCH 4.1 [G] loss: 1.7557867765426636\nEPOCH 4.2 [G] loss: 1.44599449634552\nEPOCH 4.3 [G] loss: 1.162673830986023\nEPOCH 4.4 [G] loss: 0.8823347091674805\nEPOCH 4.5 [G] loss: 0.8740366697311401\nEPOCH 4.6 [G] loss: 0.7250597476959229\nEPOCH 4.7 [G] loss: 0.71696537733078\nEPOCH 4.8 [G] loss: 0.663474440574646\nEPOCH 4.9 [G] loss: 0.6191341876983643\nEPOCH 4.10 [G] loss: 0.6053719520568848\nEPOCH 5.1 [D] loss: 0.3043654263019562 ; acc: 82.03125\nEPOCH 5.2 [D] loss: 0.27760934829711914 ; acc: 85.15625\nEPOCH 5.3 [D] loss: 0.290460467338562 ; acc: 88.28125\nEPOCH 5.4 [D] loss: 0.24719920754432678 ; acc: 93.75\nEPOCH 5.5 [D] loss: 0.20242846012115479 ; acc: 99.21875\nEPOCH 5.6 [D] loss: 0.19414468109607697 ; acc: 100.0\nEPOCH 5.7 [D] loss: 0.17365306615829468 ; acc: 99.21875\nEPOCH 5.8 [D] loss: 0.1896105706691742 ; acc: 98.4375\nEPOCH 5.9 [D] loss: 0.1918874979019165 ; acc: 98.4375\nEPOCH 5.10 [D] loss: 0.22571595013141632 ; acc: 97.65625\nEPOCH 5.1 [G] loss: 1.244254231452942\nEPOCH 5.2 [G] loss: 1.2905371189117432\nEPOCH 5.3 [G] loss: 1.0896692276000977\nEPOCH 5.4 [G] loss: 0.9609070420265198\nEPOCH 5.5 [G] loss: 0.881473958492279\nEPOCH 5.6 [G] loss: 0.7338511943817139\nEPOCH 5.7 [G] loss: 0.6625971794128418\nEPOCH 5.8 [G] loss: 0.630437433719635\nEPOCH 5.9 [G] loss: 0.7507256269454956\nEPOCH 5.10 [G] loss: 0.7138842344284058\nEPOCH 6.1 [D] loss: 0.38206350803375244 ; acc: 75.0\nEPOCH 6.2 [D] loss: 0.3356752097606659 ; acc: 78.125\nEPOCH 6.3 [D] loss: 0.28598490357398987 ; acc: 87.5\nEPOCH 6.4 [D] loss: 0.24553948640823364 ; acc: 94.53125\nEPOCH 6.5 [D] loss: 0.25717484951019287 ; acc: 95.3125\nEPOCH 6.6 [D] loss: 0.20754314959049225 ; acc: 98.4375\nEPOCH 6.7 [D] loss: 0.21477240324020386 ; acc: 97.65625\nEPOCH 6.8 [D] loss: 0.18393433094024658 ; acc: 99.21875\nEPOCH 6.9 [D] loss: 0.1981419324874878 ; acc: 99.21875\nEPOCH 6.10 [D] loss: 0.207985982298851 ; acc: 97.65625\nEPOCH 6.1 [G] loss: 1.4578218460083008\nEPOCH 6.2 [G] loss: 1.4434428215026855\nEPOCH 6.3 [G] loss: 1.1267749071121216\nEPOCH 6.4 [G] loss: 1.0997227430343628\nEPOCH 6.5 [G] loss: 0.8455976843833923\nEPOCH 6.6 [G] loss: 0.8090362548828125\nEPOCH 6.7 [G] loss: 0.7594221234321594\nEPOCH 6.8 [G] loss: 0.662360429763794\nEPOCH 6.9 [G] loss: 0.6717528700828552\nEPOCH 6.10 [G] loss: 0.628165602684021\nEPOCH 7.1 [D] loss: 0.29203420877456665 ; acc: 85.15625\nEPOCH 7.2 [D] loss: 0.29525142908096313 ; acc: 90.625\nEPOCH 7.3 [D] loss: 0.2280140072107315 ; acc: 96.875\nEPOCH 7.4 [D] loss: 0.23782692849636078 ; acc: 98.4375\nEPOCH 7.5 [D] loss: 0.20013375580310822 ; acc: 99.21875\nEPOCH 7.6 [D] loss: 0.19701090455055237 ; acc: 100.0\nEPOCH 7.7 [D] loss: 0.20695975422859192 ; acc: 98.4375\nEPOCH 7.8 [D] loss: 0.19315624237060547 ; acc: 97.65625\nEPOCH 7.9 [D] loss: 0.163328617811203 ; acc: 100.0\nEPOCH 7.10 [D] loss: 0.19838210940361023 ; acc: 98.4375\nEPOCH 7.1 [G] loss: 1.8103432655334473\nEPOCH 7.2 [G] loss: 1.4612458944320679\nEPOCH 7.3 [G] loss: 1.1520229578018188\nEPOCH 7.4 [G] loss: 0.8917505741119385\nEPOCH 7.5 [G] loss: 0.8498982787132263\nEPOCH 7.6 [G] loss: 0.7648935317993164\nEPOCH 7.7 [G] loss: 0.7280904054641724\nEPOCH 7.8 [G] loss: 0.6725294589996338\nEPOCH 7.9 [G] loss: 0.6480848789215088\nEPOCH 7.10 [G] loss: 0.6196010112762451\nEPOCH 8.1 [D] loss: 0.3314659893512726 ; acc: 80.46875\nEPOCH 8.2 [D] loss: 0.30130141973495483 ; acc: 84.375\nEPOCH 8.3 [D] loss: 0.2762575149536133 ; acc: 89.84375\nEPOCH 8.4 [D] loss: 0.24947789311408997 ; acc: 93.75\nEPOCH 8.5 [D] loss: 0.23111069202423096 ; acc: 99.21875\nEPOCH 8.6 [D] loss: 0.20694909989833832 ; acc: 98.4375\nEPOCH 8.7 [D] loss: 0.16712528467178345 ; acc: 100.0\nEPOCH 8.8 [D] loss: 0.2093040496110916 ; acc: 96.875\nEPOCH 8.9 [D] loss: 0.17809557914733887 ; acc: 99.21875\nEPOCH 8.10 [D] loss: 0.2058354914188385 ; acc: 96.09375\nEPOCH 8.1 [G] loss: 2.238852024078369\nEPOCH 8.2 [G] loss: 1.50672447681427\nEPOCH 8.3 [G] loss: 1.112020492553711\nEPOCH 8.4 [G] loss: 1.1386184692382812\nEPOCH 8.5 [G] loss: 1.0501292943954468\nEPOCH 8.6 [G] loss: 0.8782902956008911\nEPOCH 8.7 [G] loss: 0.7049053907394409\nEPOCH 8.8 [G] loss: 0.6860174536705017\nEPOCH 8.9 [G] loss: 0.6468082666397095\nEPOCH 8.10 [G] loss: 0.6370322704315186\nEPOCH 9.1 [D] loss: 0.3347114324569702 ; acc: 82.8125\nEPOCH 9.2 [D] loss: 0.3057132661342621 ; acc: 85.15625\nEPOCH 9.3 [D] loss: 0.2736344337463379 ; acc: 89.0625\nEPOCH 9.4 [D] loss: 0.2739655375480652 ; acc: 92.96875\nEPOCH 9.5 [D] loss: 0.20883393287658691 ; acc: 96.875\nEPOCH 9.6 [D] loss: 0.1847916543483734 ; acc: 99.21875\nEPOCH 9.7 [D] loss: 0.15153710544109344 ; acc: 100.0\nEPOCH 9.8 [D] loss: 0.16590292751789093 ; acc: 99.21875\nEPOCH 9.9 [D] loss: 0.19051583111286163 ; acc: 96.875\nEPOCH 9.10 [D] loss: 0.2123705893754959 ; acc: 97.65625\nEPOCH 9.1 [G] loss: 2.3568975925445557\nEPOCH 9.2 [G] loss: 1.5013251304626465\nEPOCH 9.3 [G] loss: 1.213760495185852\nEPOCH 9.4 [G] loss: 0.9325988292694092\nEPOCH 9.5 [G] loss: 0.823875904083252\nEPOCH 9.6 [G] loss: 0.730004072189331\nEPOCH 9.7 [G] loss: 0.6659967303276062\nEPOCH 9.8 [G] loss: 0.6947396397590637\nEPOCH 9.9 [G] loss: 0.6821416020393372\nEPOCH 9.10 [G] loss: 0.8816968202590942\nEPOCH 10.1 [D] loss: 0.42567551136016846 ; acc: 65.625\nEPOCH 10.2 [D] loss: 0.36048954725265503 ; acc: 76.5625\nEPOCH 10.3 [D] loss: 0.2999480366706848 ; acc: 86.71875\nEPOCH 10.4 [D] loss: 0.30185359716415405 ; acc: 91.40625\nEPOCH 10.5 [D] loss: 0.22444629669189453 ; acc: 94.53125\nEPOCH 10.6 [D] loss: 0.18236735463142395 ; acc: 99.21875\nEPOCH 10.7 [D] loss: 0.16871283948421478 ; acc: 99.21875\nEPOCH 10.8 [D] loss: 0.16003499925136566 ; acc: 100.0\nEPOCH 10.9 [D] loss: 0.1751684844493866 ; acc: 98.4375\nEPOCH 10.10 [D] loss: 0.1948176920413971 ; acc: 93.75\nEPOCH 10.1 [G] loss: 1.9322906732559204\nEPOCH 10.2 [G] loss: 1.0968271493911743\nEPOCH 10.3 [G] loss: 0.9846236705780029\nEPOCH 10.4 [G] loss: 0.7978032827377319\nEPOCH 10.5 [G] loss: 0.6647697687149048\nEPOCH 10.6 [G] loss: 0.7608655691146851\nEPOCH 10.7 [G] loss: 0.9002566337585449\nEPOCH 10.8 [G] loss: 1.1010044813156128\nEPOCH 10.9 [G] loss: 1.154608130455017\nEPOCH 10.10 [G] loss: 1.307174563407898\nEPOCH 11.1 [D] loss: 1.5791802406311035 ; acc: 56.25\nEPOCH 11.2 [D] loss: 0.5682199597358704 ; acc: 60.9375\nEPOCH 11.3 [D] loss: 0.4079177677631378 ; acc: 71.09375\nEPOCH 11.4 [D] loss: 0.270520955324173 ; acc: 94.53125\nEPOCH 11.5 [D] loss: 0.18991965055465698 ; acc: 100.0\nEPOCH 11.6 [D] loss: 0.14747489988803864 ; acc: 99.21875\nEPOCH 11.7 [D] loss: 0.15743687748908997 ; acc: 98.4375\nEPOCH 11.8 [D] loss: 0.27383917570114136 ; acc: 89.0625\nEPOCH 11.9 [D] loss: 0.2729511857032776 ; acc: 92.96875\nEPOCH 11.10 [D] loss: 0.3075922429561615 ; acc: 81.25\nEPOCH 11.1 [G] loss: 7.441799163818359\nEPOCH 11.2 [G] loss: 6.44796085357666\nEPOCH 11.3 [G] loss: 5.364849090576172\nEPOCH 11.4 [G] loss: 4.135608196258545\nEPOCH 11.5 [G] loss: 2.4525372982025146\nEPOCH 11.6 [G] loss: 1.3794606924057007\nEPOCH 11.7 [G] loss: 0.9563512206077576\nEPOCH 11.8 [G] loss: 0.6734428405761719\nEPOCH 11.9 [G] loss: 0.585004448890686\nEPOCH 11.10 [G] loss: 0.7130923867225647\nEPOCH 12.1 [D] loss: 0.47574499249458313 ; acc: 63.28125\nEPOCH 12.2 [D] loss: 0.41877537965774536 ; acc: 67.96875\nEPOCH 12.3 [D] loss: 0.3613288104534149 ; acc: 73.4375\nEPOCH 12.4 [D] loss: 0.30071666836738586 ; acc: 82.8125\nEPOCH 12.5 [D] loss: 0.21820665895938873 ; acc: 92.1875\nEPOCH 12.6 [D] loss: 0.19952252507209778 ; acc: 96.09375\nEPOCH 12.7 [D] loss: 0.1917395293712616 ; acc: 99.21875\nEPOCH 12.8 [D] loss: 0.14277131855487823 ; acc: 100.0\nEPOCH 12.9 [D] loss: 0.1415155827999115 ; acc: 100.0\nEPOCH 12.10 [D] loss: 0.15930286049842834 ; acc: 97.65625\nEPOCH 12.1 [G] loss: 3.98321795463562\nEPOCH 12.2 [G] loss: 2.9770894050598145\nEPOCH 12.3 [G] loss: 0.9502184391021729\nEPOCH 12.4 [G] loss: 0.758935809135437\nEPOCH 12.5 [G] loss: 0.6253556609153748\nEPOCH 12.6 [G] loss: 0.7386401891708374\nEPOCH 12.7 [G] loss: 0.9452825784683228\nEPOCH 12.8 [G] loss: 1.203107237815857\nEPOCH 12.9 [G] loss: 1.084431767463684\nEPOCH 12.10 [G] loss: 1.4249157905578613\nEPOCH 13.1 [D] loss: 0.7868059873580933 ; acc: 54.6875\nEPOCH 13.2 [D] loss: 0.5323795080184937 ; acc: 62.5\nEPOCH 13.3 [D] loss: 0.4427342414855957 ; acc: 64.84375\nEPOCH 13.4 [D] loss: 0.2999664843082428 ; acc: 85.9375\nEPOCH 13.5 [D] loss: 0.20906320214271545 ; acc: 93.75\nEPOCH 13.6 [D] loss: 0.1501261293888092 ; acc: 99.21875\nEPOCH 13.7 [D] loss: 0.147944375872612 ; acc: 97.65625\nEPOCH 13.8 [D] loss: 0.17476391792297363 ; acc: 96.09375\nEPOCH 13.9 [D] loss: 0.18966001272201538 ; acc: 96.09375\nEPOCH 13.10 [D] loss: 0.22711065411567688 ; acc: 92.1875\nEPOCH 13.1 [G] loss: 6.94565486907959\nEPOCH 13.2 [G] loss: 5.515493392944336\nEPOCH 13.3 [G] loss: 4.266692638397217\nEPOCH 13.4 [G] loss: 3.268695831298828\nEPOCH 13.5 [G] loss: 3.0749430656433105\nEPOCH 13.6 [G] loss: 1.8815263509750366\nEPOCH 13.7 [G] loss: 1.9025547504425049\nEPOCH 13.8 [G] loss: 1.3094099760055542\nEPOCH 13.9 [G] loss: 1.1746376752853394\nEPOCH 13.10 [G] loss: 1.4866576194763184\nEPOCH 14.1 [D] loss: 2.0531418323516846 ; acc: 60.9375\nEPOCH 14.2 [D] loss: 2.0575034618377686 ; acc: 57.8125\nEPOCH 14.3 [D] loss: 0.5092816352844238 ; acc: 69.53125\nEPOCH 14.4 [D] loss: 0.25453221797943115 ; acc: 92.96875\nEPOCH 14.5 [D] loss: 0.1947842687368393 ; acc: 100.0\nEPOCH 14.6 [D] loss: 0.21219679713249207 ; acc: 93.75\nEPOCH 14.7 [D] loss: 0.32034286856651306 ; acc: 87.5\nEPOCH 14.8 [D] loss: 0.44372230768203735 ; acc: 78.90625\nEPOCH 14.9 [D] loss: 0.5971890687942505 ; acc: 66.40625\nEPOCH 14.10 [D] loss: 0.6739737391471863 ; acc: 69.53125\nEPOCH 14.1 [G] loss: 8.744446754455566\nEPOCH 14.2 [G] loss: 7.7945075035095215\nEPOCH 14.3 [G] loss: 5.5068583488464355\nEPOCH 14.4 [G] loss: 5.454799652099609\nEPOCH 14.5 [G] loss: 3.68412709236145\nEPOCH 14.6 [G] loss: 2.4162731170654297\nEPOCH 14.7 [G] loss: 2.0952348709106445\nEPOCH 14.8 [G] loss: 1.499575138092041\nEPOCH 14.9 [G] loss: 1.0989959239959717\nEPOCH 14.10 [G] loss: 1.0397529602050781\nEPOCH 15.1 [D] loss: 1.1973850727081299 ; acc: 63.28125\nEPOCH 15.2 [D] loss: 0.6926193237304688 ; acc: 67.96875\nEPOCH 15.3 [D] loss: 0.4205518662929535 ; acc: 72.65625\nEPOCH 15.4 [D] loss: 0.29506245255470276 ; acc: 80.46875\nEPOCH 15.5 [D] loss: 0.2379896491765976 ; acc: 86.71875\nEPOCH 15.6 [D] loss: 0.21657899022102356 ; acc: 86.71875\nEPOCH 15.7 [D] loss: 0.1802462935447693 ; acc: 92.96875\nEPOCH 15.8 [D] loss: 0.13604304194450378 ; acc: 99.21875\nEPOCH 15.9 [D] loss: 0.12353356927633286 ; acc: 99.21875\nEPOCH 15.10 [D] loss: 0.13449841737747192 ; acc: 99.21875\nEPOCH 15.1 [G] loss: 4.939117431640625\nEPOCH 15.2 [G] loss: 4.040539741516113\nEPOCH 15.3 [G] loss: 3.526798725128174\nEPOCH 15.4 [G] loss: 2.7874836921691895\nEPOCH 15.5 [G] loss: 1.647970199584961\nEPOCH 15.6 [G] loss: 0.9370583295822144\nEPOCH 15.7 [G] loss: 0.8413957953453064\nEPOCH 15.8 [G] loss: 0.8389947414398193\nEPOCH 15.9 [G] loss: 1.2725701332092285\nEPOCH 15.10 [G] loss: 1.5122101306915283\nEPOCH 16.1 [D] loss: 1.8849425315856934 ; acc: 53.125\nEPOCH 16.2 [D] loss: 1.0789810419082642 ; acc: 55.46875\nEPOCH 16.3 [D] loss: 0.39913520216941833 ; acc: 72.65625\nEPOCH 16.4 [D] loss: 0.2624109983444214 ; acc: 89.84375\nEPOCH 16.5 [D] loss: 0.19391867518424988 ; acc: 99.21875\nEPOCH 16.6 [D] loss: 0.12863078713417053 ; acc: 100.0\nEPOCH 16.7 [D] loss: 0.1646622121334076 ; acc: 98.4375\nEPOCH 16.8 [D] loss: 0.22155910730361938 ; acc: 93.75\nEPOCH 16.9 [D] loss: 0.39165034890174866 ; acc: 87.5\nEPOCH 16.10 [D] loss: 0.36951684951782227 ; acc: 81.25\nEPOCH 16.1 [G] loss: 9.386245727539062\nEPOCH 16.2 [G] loss: 7.596872329711914\nEPOCH 16.3 [G] loss: 5.203977108001709\nEPOCH 16.4 [G] loss: 3.9373388290405273\nEPOCH 16.5 [G] loss: 2.268519401550293\nEPOCH 16.6 [G] loss: 1.322281837463379\nEPOCH 16.7 [G] loss: 0.9028230905532837\nEPOCH 16.8 [G] loss: 0.6809037923812866\nEPOCH 16.9 [G] loss: 0.6504294276237488\nEPOCH 16.10 [G] loss: 0.6442479491233826\nEPOCH 17.1 [D] loss: 0.4191952049732208 ; acc: 71.875\nEPOCH 17.2 [D] loss: 0.32019492983818054 ; acc: 81.25\nEPOCH 17.3 [D] loss: 0.31441444158554077 ; acc: 84.375\nEPOCH 17.4 [D] loss: 0.22821630537509918 ; acc: 96.875\nEPOCH 17.5 [D] loss: 0.2421177178621292 ; acc: 96.09375\nEPOCH 17.6 [D] loss: 0.1797311007976532 ; acc: 98.4375\nEPOCH 17.7 [D] loss: 0.19389376044273376 ; acc: 96.875\nEPOCH 17.8 [D] loss: 0.2159968912601471 ; acc: 97.65625\nEPOCH 17.9 [D] loss: 0.19409707188606262 ; acc: 98.4375\nEPOCH 17.10 [D] loss: 0.20769548416137695 ; acc: 93.75\nEPOCH 17.1 [G] loss: 3.0079593658447266\nEPOCH 17.2 [G] loss: 1.6199537515640259\nEPOCH 17.3 [G] loss: 1.3207861185073853\nEPOCH 17.4 [G] loss: 0.9374022483825684\nEPOCH 17.5 [G] loss: 0.7607558965682983\nEPOCH 17.6 [G] loss: 0.6631895899772644\nEPOCH 17.7 [G] loss: 0.6527271270751953\nEPOCH 17.8 [G] loss: 0.592682957649231\nEPOCH 17.9 [G] loss: 0.7346309423446655\nEPOCH 17.10 [G] loss: 0.9763607978820801\nEPOCH 18.1 [D] loss: 0.44562703371047974 ; acc: 72.65625\nEPOCH 18.2 [D] loss: 0.3862658739089966 ; acc: 73.4375\nEPOCH 18.3 [D] loss: 0.33279865980148315 ; acc: 82.03125\nEPOCH 18.4 [D] loss: 0.27195680141448975 ; acc: 90.625\nEPOCH 18.5 [D] loss: 0.2301277071237564 ; acc: 96.09375\nEPOCH 18.6 [D] loss: 0.2261599600315094 ; acc: 97.65625\nEPOCH 18.7 [D] loss: 0.17073345184326172 ; acc: 99.21875\nEPOCH 18.8 [D] loss: 0.17323854565620422 ; acc: 100.0\nEPOCH 18.9 [D] loss: 0.1933390349149704 ; acc: 97.65625\nEPOCH 18.10 [D] loss: 0.2011294960975647 ; acc: 97.65625\nEPOCH 18.1 [G] loss: 2.3783786296844482\nEPOCH 18.2 [G] loss: 1.6550054550170898\nEPOCH 18.3 [G] loss: 1.2779431343078613\nEPOCH 18.4 [G] loss: 1.107011318206787\nEPOCH 18.5 [G] loss: 0.9286083579063416\nEPOCH 18.6 [G] loss: 0.7461603879928589\nEPOCH 18.7 [G] loss: 0.7233309745788574\nEPOCH 18.8 [G] loss: 0.6743541955947876\nEPOCH 18.9 [G] loss: 0.6282245516777039\nEPOCH 18.10 [G] loss: 0.6017705202102661\nEPOCH 19.1 [D] loss: 0.34271055459976196 ; acc: 83.59375\nEPOCH 19.2 [D] loss: 0.30829763412475586 ; acc: 84.375\nEPOCH 19.3 [D] loss: 0.257563054561615 ; acc: 94.53125\nEPOCH 19.4 [D] loss: 0.26078668236732483 ; acc: 95.3125\nEPOCH 19.5 [D] loss: 0.22823214530944824 ; acc: 97.65625\nEPOCH 19.6 [D] loss: 0.20775291323661804 ; acc: 99.21875\nEPOCH 19.7 [D] loss: 0.2161630392074585 ; acc: 97.65625\nEPOCH 19.8 [D] loss: 0.34944382309913635 ; acc: 92.1875\nEPOCH 19.9 [D] loss: 0.20503996312618256 ; acc: 94.53125\nEPOCH 19.10 [D] loss: 0.22254088521003723 ; acc: 94.53125\nEPOCH 19.1 [G] loss: 2.0849733352661133\nEPOCH 19.2 [G] loss: 1.4628543853759766\nEPOCH 19.3 [G] loss: 1.3840289115905762\nEPOCH 19.4 [G] loss: 1.14225172996521\nEPOCH 19.5 [G] loss: 0.8889268636703491\nEPOCH 19.6 [G] loss: 0.8726757764816284\nEPOCH 19.7 [G] loss: 0.7473778128623962\nEPOCH 19.8 [G] loss: 0.6639795899391174\nEPOCH 19.9 [G] loss: 0.6347139477729797\nEPOCH 19.10 [G] loss: 0.6227967143058777\nEPOCH 20.1 [D] loss: 0.3780232071876526 ; acc: 78.125\nEPOCH 20.2 [D] loss: 0.31660622358322144 ; acc: 84.375\nEPOCH 20.3 [D] loss: 0.2992781400680542 ; acc: 90.625\nEPOCH 20.4 [D] loss: 0.24594658613204956 ; acc: 97.65625\nEPOCH 20.5 [D] loss: 0.2100735306739807 ; acc: 97.65625\nEPOCH 20.6 [D] loss: 0.18161346018314362 ; acc: 99.21875\nEPOCH 20.7 [D] loss: 0.2171177864074707 ; acc: 99.21875\nEPOCH 20.8 [D] loss: 0.1673193722963333 ; acc: 100.0\nEPOCH 20.9 [D] loss: 0.20080043375492096 ; acc: 98.4375\nEPOCH 20.10 [D] loss: 0.16779941320419312 ; acc: 98.4375\nEPOCH 20.1 [G] loss: 1.5841548442840576\nEPOCH 20.2 [G] loss: 1.5687172412872314\nEPOCH 20.3 [G] loss: 1.04903244972229\nEPOCH 20.4 [G] loss: 0.8648890256881714\nEPOCH 20.5 [G] loss: 0.7386975288391113\nEPOCH 20.6 [G] loss: 0.6881456971168518\nEPOCH 20.7 [G] loss: 0.6674687266349792\nEPOCH 20.8 [G] loss: 0.6509358882904053\nEPOCH 20.9 [G] loss: 0.6107738614082336\nEPOCH 20.10 [G] loss: 0.7678526639938354\n"
    }
   ],
   "source": [
    "gan.train(epochs=20, iterations_generator=10, iterations_discriminator=10)"
   ]
  },
  {
   "cell_type": "code",
   "execution_count": 35,
   "metadata": {},
   "outputs": [
    {
     "output_type": "display_data",
     "data": {
      "text/plain": "<Figure size 432x288 with 1 Axes>",
      "image/svg+xml": "<?xml version=\"1.0\" encoding=\"utf-8\" standalone=\"no\"?>\r\n<!DOCTYPE svg PUBLIC \"-//W3C//DTD SVG 1.1//EN\"\r\n  \"http://www.w3.org/Graphics/SVG/1.1/DTD/svg11.dtd\">\r\n<!-- Created with matplotlib (https://matplotlib.org/) -->\r\n<svg height=\"248.518125pt\" version=\"1.1\" viewBox=\"0 0 251.565 248.518125\" width=\"251.565pt\" xmlns=\"http://www.w3.org/2000/svg\" xmlns:xlink=\"http://www.w3.org/1999/xlink\">\r\n <defs>\r\n  <style type=\"text/css\">\r\n*{stroke-linecap:butt;stroke-linejoin:round;}\r\n  </style>\r\n </defs>\r\n <g id=\"figure_1\">\r\n  <g id=\"patch_1\">\r\n   <path d=\"M 0 248.518125 \r\nL 251.565 248.518125 \r\nL 251.565 0 \r\nL 0 0 \r\nz\r\n\" style=\"fill:none;\"/>\r\n  </g>\r\n  <g id=\"axes_1\">\r\n   <g id=\"patch_2\">\r\n    <path d=\"M 26.925 224.64 \r\nL 244.365 224.64 \r\nL 244.365 7.2 \r\nL 26.925 7.2 \r\nz\r\n\" style=\"fill:#ffffff;\"/>\r\n   </g>\r\n   <g clip-path=\"url(#pf706c23586)\">\r\n    <image height=\"218\" id=\"image8d92268512\" transform=\"scale(1 -1)translate(0 -218)\" width=\"218\" x=\"26.925\" xlink:href=\"data:image/png;base64,\r\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\" y=\"-6.64\"/>\r\n   </g>\r\n   <g id=\"matplotlib.axis_1\">\r\n    <g id=\"xtick_1\">\r\n     <g id=\"line2d_1\">\r\n      <defs>\r\n       <path d=\"M 0 0 \r\nL 0 3.5 \r\n\" id=\"m329fba3c47\" style=\"stroke:#000000;stroke-width:0.8;\"/>\r\n      </defs>\r\n      <g>\r\n       <use style=\"stroke:#000000;stroke-width:0.8;\" x=\"30.807857\" xlink:href=\"#m329fba3c47\" y=\"224.64\"/>\r\n      </g>\r\n     </g>\r\n     <g id=\"text_1\">\r\n      <!-- 0 -->\r\n      <defs>\r\n       <path d=\"M 31.78125 66.40625 \r\nQ 24.171875 66.40625 20.328125 58.90625 \r\nQ 16.5 51.421875 16.5 36.375 \r\nQ 16.5 21.390625 20.328125 13.890625 \r\nQ 24.171875 6.390625 31.78125 6.390625 \r\nQ 39.453125 6.390625 43.28125 13.890625 \r\nQ 47.125 21.390625 47.125 36.375 \r\nQ 47.125 51.421875 43.28125 58.90625 \r\nQ 39.453125 66.40625 31.78125 66.40625 \r\nz\r\nM 31.78125 74.21875 \r\nQ 44.046875 74.21875 50.515625 64.515625 \r\nQ 56.984375 54.828125 56.984375 36.375 \r\nQ 56.984375 17.96875 50.515625 8.265625 \r\nQ 44.046875 -1.421875 31.78125 -1.421875 \r\nQ 19.53125 -1.421875 13.0625 8.265625 \r\nQ 6.59375 17.96875 6.59375 36.375 \r\nQ 6.59375 54.828125 13.0625 64.515625 \r\nQ 19.53125 74.21875 31.78125 74.21875 \r\nz\r\n\" id=\"DejaVuSans-48\"/>\r\n      </defs>\r\n      <g transform=\"translate(27.626607 239.238437)scale(0.1 -0.1)\">\r\n       <use xlink:href=\"#DejaVuSans-48\"/>\r\n      </g>\r\n     </g>\r\n    </g>\r\n    <g id=\"xtick_2\">\r\n     <g id=\"line2d_2\">\r\n      <g>\r\n       <use style=\"stroke:#000000;stroke-width:0.8;\" x=\"69.636429\" xlink:href=\"#m329fba3c47\" y=\"224.64\"/>\r\n      </g>\r\n     </g>\r\n     <g id=\"text_2\">\r\n      <!-- 5 -->\r\n      <defs>\r\n       <path d=\"M 10.796875 72.90625 \r\nL 49.515625 72.90625 \r\nL 49.515625 64.59375 \r\nL 19.828125 64.59375 \r\nL 19.828125 46.734375 \r\nQ 21.96875 47.46875 24.109375 47.828125 \r\nQ 26.265625 48.1875 28.421875 48.1875 \r\nQ 40.625 48.1875 47.75 41.5 \r\nQ 54.890625 34.8125 54.890625 23.390625 \r\nQ 54.890625 11.625 47.5625 5.09375 \r\nQ 40.234375 -1.421875 26.90625 -1.421875 \r\nQ 22.3125 -1.421875 17.546875 -0.640625 \r\nQ 12.796875 0.140625 7.71875 1.703125 \r\nL 7.71875 11.625 \r\nQ 12.109375 9.234375 16.796875 8.0625 \r\nQ 21.484375 6.890625 26.703125 6.890625 \r\nQ 35.15625 6.890625 40.078125 11.328125 \r\nQ 45.015625 15.765625 45.015625 23.390625 \r\nQ 45.015625 31 40.078125 35.4375 \r\nQ 35.15625 39.890625 26.703125 39.890625 \r\nQ 22.75 39.890625 18.8125 39.015625 \r\nQ 14.890625 38.140625 10.796875 36.28125 \r\nz\r\n\" id=\"DejaVuSans-53\"/>\r\n      </defs>\r\n      <g transform=\"translate(66.455179 239.238437)scale(0.1 -0.1)\">\r\n       <use xlink:href=\"#DejaVuSans-53\"/>\r\n      </g>\r\n     </g>\r\n    </g>\r\n    <g id=\"xtick_3\">\r\n     <g id=\"line2d_3\">\r\n      <g>\r\n       <use style=\"stroke:#000000;stroke-width:0.8;\" x=\"108.465\" xlink:href=\"#m329fba3c47\" y=\"224.64\"/>\r\n      </g>\r\n     </g>\r\n     <g id=\"text_3\">\r\n      <!-- 10 -->\r\n      <defs>\r\n       <path d=\"M 12.40625 8.296875 \r\nL 28.515625 8.296875 \r\nL 28.515625 63.921875 \r\nL 10.984375 60.40625 \r\nL 10.984375 69.390625 \r\nL 28.421875 72.90625 \r\nL 38.28125 72.90625 \r\nL 38.28125 8.296875 \r\nL 54.390625 8.296875 \r\nL 54.390625 0 \r\nL 12.40625 0 \r\nz\r\n\" id=\"DejaVuSans-49\"/>\r\n      </defs>\r\n      <g transform=\"translate(102.1025 239.238437)scale(0.1 -0.1)\">\r\n       <use xlink:href=\"#DejaVuSans-49\"/>\r\n       <use x=\"63.623047\" xlink:href=\"#DejaVuSans-48\"/>\r\n      </g>\r\n     </g>\r\n    </g>\r\n    <g id=\"xtick_4\">\r\n     <g id=\"line2d_4\">\r\n      <g>\r\n       <use style=\"stroke:#000000;stroke-width:0.8;\" x=\"147.293571\" xlink:href=\"#m329fba3c47\" y=\"224.64\"/>\r\n      </g>\r\n     </g>\r\n     <g id=\"text_4\">\r\n      <!-- 15 -->\r\n      <g transform=\"translate(140.931071 239.238437)scale(0.1 -0.1)\">\r\n       <use xlink:href=\"#DejaVuSans-49\"/>\r\n       <use x=\"63.623047\" xlink:href=\"#DejaVuSans-53\"/>\r\n      </g>\r\n     </g>\r\n    </g>\r\n    <g id=\"xtick_5\">\r\n     <g id=\"line2d_5\">\r\n      <g>\r\n       <use style=\"stroke:#000000;stroke-width:0.8;\" x=\"186.122143\" xlink:href=\"#m329fba3c47\" y=\"224.64\"/>\r\n      </g>\r\n     </g>\r\n     <g id=\"text_5\">\r\n      <!-- 20 -->\r\n      <defs>\r\n       <path d=\"M 19.1875 8.296875 \r\nL 53.609375 8.296875 \r\nL 53.609375 0 \r\nL 7.328125 0 \r\nL 7.328125 8.296875 \r\nQ 12.9375 14.109375 22.625 23.890625 \r\nQ 32.328125 33.6875 34.8125 36.53125 \r\nQ 39.546875 41.84375 41.421875 45.53125 \r\nQ 43.3125 49.21875 43.3125 52.78125 \r\nQ 43.3125 58.59375 39.234375 62.25 \r\nQ 35.15625 65.921875 28.609375 65.921875 \r\nQ 23.96875 65.921875 18.8125 64.3125 \r\nQ 13.671875 62.703125 7.8125 59.421875 \r\nL 7.8125 69.390625 \r\nQ 13.765625 71.78125 18.9375 73 \r\nQ 24.125 74.21875 28.421875 74.21875 \r\nQ 39.75 74.21875 46.484375 68.546875 \r\nQ 53.21875 62.890625 53.21875 53.421875 \r\nQ 53.21875 48.921875 51.53125 44.890625 \r\nQ 49.859375 40.875 45.40625 35.40625 \r\nQ 44.1875 33.984375 37.640625 27.21875 \r\nQ 31.109375 20.453125 19.1875 8.296875 \r\nz\r\n\" id=\"DejaVuSans-50\"/>\r\n      </defs>\r\n      <g transform=\"translate(179.759643 239.238437)scale(0.1 -0.1)\">\r\n       <use xlink:href=\"#DejaVuSans-50\"/>\r\n       <use x=\"63.623047\" xlink:href=\"#DejaVuSans-48\"/>\r\n      </g>\r\n     </g>\r\n    </g>\r\n    <g id=\"xtick_6\">\r\n     <g id=\"line2d_6\">\r\n      <g>\r\n       <use style=\"stroke:#000000;stroke-width:0.8;\" x=\"224.950714\" xlink:href=\"#m329fba3c47\" y=\"224.64\"/>\r\n      </g>\r\n     </g>\r\n     <g id=\"text_6\">\r\n      <!-- 25 -->\r\n      <g transform=\"translate(218.588214 239.238437)scale(0.1 -0.1)\">\r\n       <use xlink:href=\"#DejaVuSans-50\"/>\r\n       <use x=\"63.623047\" xlink:href=\"#DejaVuSans-53\"/>\r\n      </g>\r\n     </g>\r\n    </g>\r\n   </g>\r\n   <g id=\"matplotlib.axis_2\">\r\n    <g id=\"ytick_1\">\r\n     <g id=\"line2d_7\">\r\n      <defs>\r\n       <path d=\"M 0 0 \r\nL -3.5 0 \r\n\" id=\"md23018c002\" style=\"stroke:#000000;stroke-width:0.8;\"/>\r\n      </defs>\r\n      <g>\r\n       <use style=\"stroke:#000000;stroke-width:0.8;\" x=\"26.925\" xlink:href=\"#md23018c002\" y=\"11.082857\"/>\r\n      </g>\r\n     </g>\r\n     <g id=\"text_7\">\r\n      <!-- 0 -->\r\n      <g transform=\"translate(13.5625 14.882076)scale(0.1 -0.1)\">\r\n       <use xlink:href=\"#DejaVuSans-48\"/>\r\n      </g>\r\n     </g>\r\n    </g>\r\n    <g id=\"ytick_2\">\r\n     <g id=\"line2d_8\">\r\n      <g>\r\n       <use style=\"stroke:#000000;stroke-width:0.8;\" x=\"26.925\" xlink:href=\"#md23018c002\" y=\"49.911429\"/>\r\n      </g>\r\n     </g>\r\n     <g id=\"text_8\">\r\n      <!-- 5 -->\r\n      <g transform=\"translate(13.5625 53.710647)scale(0.1 -0.1)\">\r\n       <use xlink:href=\"#DejaVuSans-53\"/>\r\n      </g>\r\n     </g>\r\n    </g>\r\n    <g id=\"ytick_3\">\r\n     <g id=\"line2d_9\">\r\n      <g>\r\n       <use style=\"stroke:#000000;stroke-width:0.8;\" x=\"26.925\" xlink:href=\"#md23018c002\" y=\"88.74\"/>\r\n      </g>\r\n     </g>\r\n     <g id=\"text_9\">\r\n      <!-- 10 -->\r\n      <g transform=\"translate(7.2 92.539219)scale(0.1 -0.1)\">\r\n       <use xlink:href=\"#DejaVuSans-49\"/>\r\n       <use x=\"63.623047\" xlink:href=\"#DejaVuSans-48\"/>\r\n      </g>\r\n     </g>\r\n    </g>\r\n    <g id=\"ytick_4\">\r\n     <g id=\"line2d_10\">\r\n      <g>\r\n       <use style=\"stroke:#000000;stroke-width:0.8;\" x=\"26.925\" xlink:href=\"#md23018c002\" y=\"127.568571\"/>\r\n      </g>\r\n     </g>\r\n     <g id=\"text_10\">\r\n      <!-- 15 -->\r\n      <g transform=\"translate(7.2 131.36779)scale(0.1 -0.1)\">\r\n       <use xlink:href=\"#DejaVuSans-49\"/>\r\n       <use x=\"63.623047\" xlink:href=\"#DejaVuSans-53\"/>\r\n      </g>\r\n     </g>\r\n    </g>\r\n    <g id=\"ytick_5\">\r\n     <g id=\"line2d_11\">\r\n      <g>\r\n       <use style=\"stroke:#000000;stroke-width:0.8;\" x=\"26.925\" xlink:href=\"#md23018c002\" y=\"166.397143\"/>\r\n      </g>\r\n     </g>\r\n     <g id=\"text_11\">\r\n      <!-- 20 -->\r\n      <g transform=\"translate(7.2 170.196362)scale(0.1 -0.1)\">\r\n       <use xlink:href=\"#DejaVuSans-50\"/>\r\n       <use x=\"63.623047\" xlink:href=\"#DejaVuSans-48\"/>\r\n      </g>\r\n     </g>\r\n    </g>\r\n    <g id=\"ytick_6\">\r\n     <g id=\"line2d_12\">\r\n      <g>\r\n       <use style=\"stroke:#000000;stroke-width:0.8;\" x=\"26.925\" xlink:href=\"#md23018c002\" y=\"205.225714\"/>\r\n      </g>\r\n     </g>\r\n     <g id=\"text_12\">\r\n      <!-- 25 -->\r\n      <g transform=\"translate(7.2 209.024933)scale(0.1 -0.1)\">\r\n       <use xlink:href=\"#DejaVuSans-50\"/>\r\n       <use x=\"63.623047\" xlink:href=\"#DejaVuSans-53\"/>\r\n      </g>\r\n     </g>\r\n    </g>\r\n   </g>\r\n   <g id=\"patch_3\">\r\n    <path d=\"M 26.925 224.64 \r\nL 26.925 7.2 \r\n\" style=\"fill:none;stroke:#000000;stroke-linecap:square;stroke-linejoin:miter;stroke-width:0.8;\"/>\r\n   </g>\r\n   <g id=\"patch_4\">\r\n    <path d=\"M 244.365 224.64 \r\nL 244.365 7.2 \r\n\" style=\"fill:none;stroke:#000000;stroke-linecap:square;stroke-linejoin:miter;stroke-width:0.8;\"/>\r\n   </g>\r\n   <g id=\"patch_5\">\r\n    <path d=\"M 26.925 224.64 \r\nL 244.365 224.64 \r\n\" style=\"fill:none;stroke:#000000;stroke-linecap:square;stroke-linejoin:miter;stroke-width:0.8;\"/>\r\n   </g>\r\n   <g id=\"patch_6\">\r\n    <path d=\"M 26.925 7.2 \r\nL 244.365 7.2 \r\n\" style=\"fill:none;stroke:#000000;stroke-linecap:square;stroke-linejoin:miter;stroke-width:0.8;\"/>\r\n   </g>\r\n  </g>\r\n </g>\r\n <defs>\r\n  <clipPath id=\"pf706c23586\">\r\n   <rect height=\"217.44\" width=\"217.44\" x=\"26.925\" y=\"7.2\"/>\r\n  </clipPath>\r\n </defs>\r\n</svg>\r\n",
      "image/png": "[encoded data removed]"
     },
     "metadata": {
      "needs_background": "light"
     }
    }
   ],
   "source": [
    "import matplotlib.pyplot as plt\n",
    "\n",
    "img = gan.generate()\n",
    "plt.imshow(img[0, :,:,0], cmap='gray')\n",
    "plt.show()"
   ]
  },
  {
   "cell_type": "code",
   "execution_count": 60,
   "metadata": {},
   "outputs": [],
   "source": [
    "gan.export(\"gan/models/dcgan\")"
   ]
  },
  {
   "cell_type": "code",
   "execution_count": 3,
   "metadata": {
    "tags": []
   },
   "outputs": [
    {
     "output_type": "stream",
     "name": "stdout",
     "text": "Loading models from file\nWARNING:tensorflow:Error in loading the saved optimizer state. As a result, your model is starting with a freshly initialized optimizer.\nWARNING:tensorflow:Error in loading the saved optimizer state. As a result, your model is starting with a freshly initialized optimizer.\n"
    }
   ],
   "source": [
    "gan.import_('gan/models/dcgan')"
   ]
  },
  {
   "cell_type": "code",
   "execution_count": 36,
   "metadata": {},
   "outputs": [
    {
     "output_type": "execute_result",
     "data": {
      "text/plain": "array([[0.87530655],\n       [0.51077366],\n       [0.6792812 ],\n       [0.5340785 ],\n       [0.6747369 ]], dtype=float32)"
     },
     "metadata": {},
     "execution_count": 36
    }
   ],
   "source": [
    "import numpy as np\n",
    "noise = np.random.normal(0, 1, (5, 100))\n",
    "batch_fake = gan.generator.predict(noise)\n",
    "\n",
    "res = gan.discriminator.predict(batch_fake)\n",
    "res"
   ]
  },
  {
   "cell_type": "code",
   "execution_count": 37,
   "metadata": {},
   "outputs": [
    {
     "output_type": "execute_result",
     "data": {
      "text/plain": "array([[1.3350757],\n       [0.9490282],\n       [1.4627962],\n       [1.0561068],\n       [1.207862 ]], dtype=float32)"
     },
     "metadata": {},
     "execution_count": 37
    }
   ],
   "source": [
    "res = gan.discriminator.predict(x_train[0:5])\n",
    "res"
   ]
  },
  {
   "cell_type": "code",
   "execution_count": null,
   "metadata": {},
   "outputs": [],
   "source": []
  }
 ],
 "metadata": {
  "language_info": {
   "codemirror_mode": {
    "name": "ipython",
    "version": 3
   },
   "file_extension": ".py",
   "mimetype": "text/x-python",
   "name": "python",
   "nbconvert_exporter": "python",
   "pygments_lexer": "ipython3",
   "version": "3.7.4-final"
  },
  "orig_nbformat": 2,
  "kernelspec": {
   "name": "python_defaultSpec_1598606667696",
   "display_name": "Python 3.7.6 64-bit ('venv': venv)"
  }
 },
 "nbformat": 4,
 "nbformat_minor": 2
}