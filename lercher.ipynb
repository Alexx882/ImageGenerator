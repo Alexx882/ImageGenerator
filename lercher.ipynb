{
 "cells": [
  {
   "cell_type": "markdown",
   "metadata": {},
   "source": [
    "# High-Resolution Deep Convolutional Generative Adversarial Networks\n",
    "J. D. Curtó, I. C. Zarza, Fernando de la Torre, Irwin King, Michael R. Lyu"
   ]
  },
  {
   "cell_type": "markdown",
   "metadata": {},
   "source": [
    "## Data Preparation"
   ]
  },
  {
   "cell_type": "code",
   "execution_count": 4,
   "metadata": {
    "tags": []
   },
   "outputs": [
    {
     "output_type": "stream",
     "name": "stdout",
     "text": "initially 53 urls in the dataset\nafter pruning 50 urls in the dataset\n"
    }
   ],
   "source": [
    "from crawler import crawler, purify_sources\n",
    "\n",
    "# load urls of images into local file\n",
    "crawler.run()\n",
    "purify_sources.purify()\n"
   ]
  },
  {
   "cell_type": "code",
   "execution_count": 2,
   "metadata": {
    "tags": []
   },
   "outputs": [
    {
     "output_type": "stream",
     "name": "stdout",
     "text": "Downloading:  |████████████████████████████████████████████████████████████████████████████████████████████████████| 100.0% \n"
    }
   ],
   "source": [
    "from crawler import downloader\n",
    "\n",
    "# download actual images into folder\n",
    "downloader.run()"
   ]
  },
  {
   "cell_type": "code",
   "execution_count": 1,
   "metadata": {},
   "outputs": [],
   "source": [
    "from preprocessing import cropper\n",
    "\n",
    "cropper.crop_to_face()"
   ]
  },
  {
   "cell_type": "markdown",
   "metadata": {},
   "source": [
    "## Training"
   ]
  },
  {
   "cell_type": "code",
   "execution_count": null,
   "metadata": {},
   "outputs": [],
   "source": []
  }
 ],
 "metadata": {
  "language_info": {
   "codemirror_mode": {
    "name": "ipython",
    "version": 3
   },
   "file_extension": ".py",
   "mimetype": "text/x-python",
   "name": "python",
   "nbconvert_exporter": "python",
   "pygments_lexer": "ipython3",
   "version": "3.7.4-final"
  },
  "orig_nbformat": 2,
  "kernelspec": {
   "name": "python37464bitvenvvenv052e4d8e2aaf4a0fa9ced25a87476c9e",
   "display_name": "Python 3.7.4 64-bit ('venv': venv)"
  }
 },
 "nbformat": 4,
 "nbformat_minor": 2
}