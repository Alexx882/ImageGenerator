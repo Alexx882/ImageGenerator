{
 "cells": [
  {
   "cell_type": "markdown",
   "metadata": {},
   "source": [
    "# High-Resolution Deep Convolutional Generative Adversarial Networks\n",
    "J. D. Curtó, I. C. Zarza, Fernando de la Torre, Irwin King, Michael R. Lyu"
   ]
  },
  {
   "cell_type": "markdown",
   "metadata": {},
   "source": [
    "## Data Preparation"
   ]
  },
  {
   "cell_type": "code",
   "execution_count": null,
   "metadata": {
    "tags": []
   },
   "outputs": [],
   "source": [
    "from crawler import crawler, purify_sources\n",
    "\n",
    "# load urls of images into local file\n",
    "crawler.run()\n",
    "purify_sources.purify()\n"
   ]
  },
  {
   "cell_type": "code",
   "execution_count": null,
   "metadata": {
    "tags": []
   },
   "outputs": [],
   "source": [
    "from crawler import downloader\n",
    "\n",
    "# download actual images into folder\n",
    "downloader.run()"
   ]
  },
  {
   "cell_type": "code",
   "execution_count": null,
   "metadata": {},
   "outputs": [],
   "source": [
    "from preprocessing import cropper\n",
    "\n",
    "cropper.crop_to_face()"
   ]
  },
  {
   "cell_type": "markdown",
   "metadata": {},
   "source": [
    "## Training"
   ]
  },
  {
   "cell_type": "code",
   "execution_count": 1,
   "metadata": {},
   "outputs": [
    {
     "output_type": "execute_result",
     "data": {
      "text/plain": "(60000, 28, 28, 1)"
     },
     "metadata": {},
     "execution_count": 1
    }
   ],
   "source": [
    "import tensorflow as tf\n",
    "# MNIST dataset\n",
    "(x_train, y_train), (x_test, y_test) = tf.keras.datasets.mnist.load_data()\n",
    "\n",
    "x_train = x_train.reshape(x_train.shape[0], x_train.shape[1], x_train.shape[2], 1) / 255.\n",
    "# x_train = x_train[:500,]\n",
    "x_train.shape"
   ]
  },
  {
   "cell_type": "code",
   "execution_count": 3,
   "metadata": {
    "tags": []
   },
   "outputs": [],
   "source": [
    "from gan import GAN, DCGAN\n",
    "\n",
    "gan = DCGAN(shape=(28,28,1))\n",
    "\n",
    "gan.set_training_data(x_train)"
   ]
  },
  {
   "cell_type": "code",
   "execution_count": 4,
   "metadata": {
    "tags": []
   },
   "outputs": [
    {
     "output_type": "stream",
     "name": "stdout",
     "text": "Model: \"sequential_1\"\n_________________________________________________________________\nLayer (type)                 Output Shape              Param #   \n=================================================================\ndense_1 (Dense)              (None, 12544)             1254400   \n_________________________________________________________________\nbatch_normalization (BatchNo (None, 12544)             50176     \n_________________________________________________________________\nleaky_re_lu_2 (LeakyReLU)    (None, 12544)             0         \n_________________________________________________________________\nreshape (Reshape)            (None, 7, 7, 256)         0         \n_________________________________________________________________\nconv2d_transpose (Conv2DTran (None, 7, 7, 128)         524288    \n_________________________________________________________________\nbatch_normalization_1 (Batch (None, 7, 7, 128)         512       \n_________________________________________________________________\nleaky_re_lu_3 (LeakyReLU)    (None, 7, 7, 128)         0         \n_________________________________________________________________\nconv2d_transpose_1 (Conv2DTr (None, 14, 14, 64)        131072    \n_________________________________________________________________\nbatch_normalization_2 (Batch (None, 14, 14, 64)        256       \n_________________________________________________________________\nleaky_re_lu_4 (LeakyReLU)    (None, 14, 14, 64)        0         \n_________________________________________________________________\nconv2d_transpose_2 (Conv2DTr (None, 28, 28, 1)         1024      \n=================================================================\nTotal params: 1,961,728\nTrainable params: 1,936,256\nNon-trainable params: 25,472\n_________________________________________________________________\n"
    }
   ],
   "source": [
    "gan.generator.summary()\n"
   ]
  },
  {
   "cell_type": "code",
   "execution_count": 7,
   "metadata": {
    "tags": []
   },
   "outputs": [],
   "source": [
    "gan.train(epochs=40, iterations_generator=40, iterations_discriminator=10)"
   ]
  },
  {
   "cell_type": "code",
   "execution_count": 6,
   "metadata": {},
   "outputs": [
    {
     "output_type": "display_data",
     "data": {
      "text/plain": "<Figure size 432x288 with 1 Axes>",
      "image/svg+xml": "<?xml version=\"1.0\" encoding=\"utf-8\" standalone=\"no\"?>\r\n<!DOCTYPE svg PUBLIC \"-//W3C//DTD SVG 1.1//EN\"\r\n  \"http://www.w3.org/Graphics/SVG/1.1/DTD/svg11.dtd\">\r\n<!-- Created with matplotlib (https://matplotlib.org/) -->\r\n<svg height=\"248.518125pt\" version=\"1.1\" viewBox=\"0 0 251.565 248.518125\" width=\"251.565pt\" xmlns=\"http://www.w3.org/2000/svg\" xmlns:xlink=\"http://www.w3.org/1999/xlink\">\r\n <defs>\r\n  <style type=\"text/css\">\r\n*{stroke-linecap:butt;stroke-linejoin:round;}\r\n  </style>\r\n </defs>\r\n <g id=\"figure_1\">\r\n  <g id=\"patch_1\">\r\n   <path d=\"M 0 248.518125 \r\nL 251.565 248.518125 \r\nL 251.565 0 \r\nL 0 0 \r\nz\r\n\" style=\"fill:none;\"/>\r\n  </g>\r\n  <g id=\"axes_1\">\r\n   <g id=\"patch_2\">\r\n    <path d=\"M 26.925 224.64 \r\nL 244.365 224.64 \r\nL 244.365 7.2 \r\nL 26.925 7.2 \r\nz\r\n\" style=\"fill:#ffffff;\"/>\r\n   </g>\r\n   <g clip-path=\"url(#pa8a3e135e6)\">\r\n    <image height=\"218\" id=\"imageb03fa33344\" transform=\"scale(1 -1)translate(0 -218)\" width=\"218\" x=\"26.925\" xlink:href=\"data:image/png;base64,\r\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\" y=\"-6.64\"/>\r\n   </g>\r\n   <g id=\"matplotlib.axis_1\">\r\n    <g id=\"xtick_1\">\r\n     <g id=\"line2d_1\">\r\n      <defs>\r\n       <path d=\"M 0 0 \r\nL 0 3.5 \r\n\" id=\"m500f4ddfe6\" style=\"stroke:#000000;stroke-width:0.8;\"/>\r\n      </defs>\r\n      <g>\r\n       <use style=\"stroke:#000000;stroke-width:0.8;\" x=\"30.807857\" xlink:href=\"#m500f4ddfe6\" y=\"224.64\"/>\r\n      </g>\r\n     </g>\r\n     <g id=\"text_1\">\r\n      <!-- 0 -->\r\n      <defs>\r\n       <path d=\"M 31.78125 66.40625 \r\nQ 24.171875 66.40625 20.328125 58.90625 \r\nQ 16.5 51.421875 16.5 36.375 \r\nQ 16.5 21.390625 20.328125 13.890625 \r\nQ 24.171875 6.390625 31.78125 6.390625 \r\nQ 39.453125 6.390625 43.28125 13.890625 \r\nQ 47.125 21.390625 47.125 36.375 \r\nQ 47.125 51.421875 43.28125 58.90625 \r\nQ 39.453125 66.40625 31.78125 66.40625 \r\nz\r\nM 31.78125 74.21875 \r\nQ 44.046875 74.21875 50.515625 64.515625 \r\nQ 56.984375 54.828125 56.984375 36.375 \r\nQ 56.984375 17.96875 50.515625 8.265625 \r\nQ 44.046875 -1.421875 31.78125 -1.421875 \r\nQ 19.53125 -1.421875 13.0625 8.265625 \r\nQ 6.59375 17.96875 6.59375 36.375 \r\nQ 6.59375 54.828125 13.0625 64.515625 \r\nQ 19.53125 74.21875 31.78125 74.21875 \r\nz\r\n\" id=\"DejaVuSans-48\"/>\r\n      </defs>\r\n      <g transform=\"translate(27.626607 239.238437)scale(0.1 -0.1)\">\r\n       <use xlink:href=\"#DejaVuSans-48\"/>\r\n      </g>\r\n     </g>\r\n    </g>\r\n    <g id=\"xtick_2\">\r\n     <g id=\"line2d_2\">\r\n      <g>\r\n       <use style=\"stroke:#000000;stroke-width:0.8;\" x=\"69.636429\" xlink:href=\"#m500f4ddfe6\" y=\"224.64\"/>\r\n      </g>\r\n     </g>\r\n     <g id=\"text_2\">\r\n      <!-- 5 -->\r\n      <defs>\r\n       <path d=\"M 10.796875 72.90625 \r\nL 49.515625 72.90625 \r\nL 49.515625 64.59375 \r\nL 19.828125 64.59375 \r\nL 19.828125 46.734375 \r\nQ 21.96875 47.46875 24.109375 47.828125 \r\nQ 26.265625 48.1875 28.421875 48.1875 \r\nQ 40.625 48.1875 47.75 41.5 \r\nQ 54.890625 34.8125 54.890625 23.390625 \r\nQ 54.890625 11.625 47.5625 5.09375 \r\nQ 40.234375 -1.421875 26.90625 -1.421875 \r\nQ 22.3125 -1.421875 17.546875 -0.640625 \r\nQ 12.796875 0.140625 7.71875 1.703125 \r\nL 7.71875 11.625 \r\nQ 12.109375 9.234375 16.796875 8.0625 \r\nQ 21.484375 6.890625 26.703125 6.890625 \r\nQ 35.15625 6.890625 40.078125 11.328125 \r\nQ 45.015625 15.765625 45.015625 23.390625 \r\nQ 45.015625 31 40.078125 35.4375 \r\nQ 35.15625 39.890625 26.703125 39.890625 \r\nQ 22.75 39.890625 18.8125 39.015625 \r\nQ 14.890625 38.140625 10.796875 36.28125 \r\nz\r\n\" id=\"DejaVuSans-53\"/>\r\n      </defs>\r\n      <g transform=\"translate(66.455179 239.238437)scale(0.1 -0.1)\">\r\n       <use xlink:href=\"#DejaVuSans-53\"/>\r\n      </g>\r\n     </g>\r\n    </g>\r\n    <g id=\"xtick_3\">\r\n     <g id=\"line2d_3\">\r\n      <g>\r\n       <use style=\"stroke:#000000;stroke-width:0.8;\" x=\"108.465\" xlink:href=\"#m500f4ddfe6\" y=\"224.64\"/>\r\n      </g>\r\n     </g>\r\n     <g id=\"text_3\">\r\n      <!-- 10 -->\r\n      <defs>\r\n       <path d=\"M 12.40625 8.296875 \r\nL 28.515625 8.296875 \r\nL 28.515625 63.921875 \r\nL 10.984375 60.40625 \r\nL 10.984375 69.390625 \r\nL 28.421875 72.90625 \r\nL 38.28125 72.90625 \r\nL 38.28125 8.296875 \r\nL 54.390625 8.296875 \r\nL 54.390625 0 \r\nL 12.40625 0 \r\nz\r\n\" id=\"DejaVuSans-49\"/>\r\n      </defs>\r\n      <g transform=\"translate(102.1025 239.238437)scale(0.1 -0.1)\">\r\n       <use xlink:href=\"#DejaVuSans-49\"/>\r\n       <use x=\"63.623047\" xlink:href=\"#DejaVuSans-48\"/>\r\n      </g>\r\n     </g>\r\n    </g>\r\n    <g id=\"xtick_4\">\r\n     <g id=\"line2d_4\">\r\n      <g>\r\n       <use style=\"stroke:#000000;stroke-width:0.8;\" x=\"147.293571\" xlink:href=\"#m500f4ddfe6\" y=\"224.64\"/>\r\n      </g>\r\n     </g>\r\n     <g id=\"text_4\">\r\n      <!-- 15 -->\r\n      <g transform=\"translate(140.931071 239.238437)scale(0.1 -0.1)\">\r\n       <use xlink:href=\"#DejaVuSans-49\"/>\r\n       <use x=\"63.623047\" xlink:href=\"#DejaVuSans-53\"/>\r\n      </g>\r\n     </g>\r\n    </g>\r\n    <g id=\"xtick_5\">\r\n     <g id=\"line2d_5\">\r\n      <g>\r\n       <use style=\"stroke:#000000;stroke-width:0.8;\" x=\"186.122143\" xlink:href=\"#m500f4ddfe6\" y=\"224.64\"/>\r\n      </g>\r\n     </g>\r\n     <g id=\"text_5\">\r\n      <!-- 20 -->\r\n      <defs>\r\n       <path d=\"M 19.1875 8.296875 \r\nL 53.609375 8.296875 \r\nL 53.609375 0 \r\nL 7.328125 0 \r\nL 7.328125 8.296875 \r\nQ 12.9375 14.109375 22.625 23.890625 \r\nQ 32.328125 33.6875 34.8125 36.53125 \r\nQ 39.546875 41.84375 41.421875 45.53125 \r\nQ 43.3125 49.21875 43.3125 52.78125 \r\nQ 43.3125 58.59375 39.234375 62.25 \r\nQ 35.15625 65.921875 28.609375 65.921875 \r\nQ 23.96875 65.921875 18.8125 64.3125 \r\nQ 13.671875 62.703125 7.8125 59.421875 \r\nL 7.8125 69.390625 \r\nQ 13.765625 71.78125 18.9375 73 \r\nQ 24.125 74.21875 28.421875 74.21875 \r\nQ 39.75 74.21875 46.484375 68.546875 \r\nQ 53.21875 62.890625 53.21875 53.421875 \r\nQ 53.21875 48.921875 51.53125 44.890625 \r\nQ 49.859375 40.875 45.40625 35.40625 \r\nQ 44.1875 33.984375 37.640625 27.21875 \r\nQ 31.109375 20.453125 19.1875 8.296875 \r\nz\r\n\" id=\"DejaVuSans-50\"/>\r\n      </defs>\r\n      <g transform=\"translate(179.759643 239.238437)scale(0.1 -0.1)\">\r\n       <use xlink:href=\"#DejaVuSans-50\"/>\r\n       <use x=\"63.623047\" xlink:href=\"#DejaVuSans-48\"/>\r\n      </g>\r\n     </g>\r\n    </g>\r\n    <g id=\"xtick_6\">\r\n     <g id=\"line2d_6\">\r\n      <g>\r\n       <use style=\"stroke:#000000;stroke-width:0.8;\" x=\"224.950714\" xlink:href=\"#m500f4ddfe6\" y=\"224.64\"/>\r\n      </g>\r\n     </g>\r\n     <g id=\"text_6\">\r\n      <!-- 25 -->\r\n      <g transform=\"translate(218.588214 239.238437)scale(0.1 -0.1)\">\r\n       <use xlink:href=\"#DejaVuSans-50\"/>\r\n       <use x=\"63.623047\" xlink:href=\"#DejaVuSans-53\"/>\r\n      </g>\r\n     </g>\r\n    </g>\r\n   </g>\r\n   <g id=\"matplotlib.axis_2\">\r\n    <g id=\"ytick_1\">\r\n     <g id=\"line2d_7\">\r\n      <defs>\r\n       <path d=\"M 0 0 \r\nL -3.5 0 \r\n\" id=\"m1caa7f68ba\" style=\"stroke:#000000;stroke-width:0.8;\"/>\r\n      </defs>\r\n      <g>\r\n       <use style=\"stroke:#000000;stroke-width:0.8;\" x=\"26.925\" xlink:href=\"#m1caa7f68ba\" y=\"11.082857\"/>\r\n      </g>\r\n     </g>\r\n     <g id=\"text_7\">\r\n      <!-- 0 -->\r\n      <g transform=\"translate(13.5625 14.882076)scale(0.1 -0.1)\">\r\n       <use xlink:href=\"#DejaVuSans-48\"/>\r\n      </g>\r\n     </g>\r\n    </g>\r\n    <g id=\"ytick_2\">\r\n     <g id=\"line2d_8\">\r\n      <g>\r\n       <use style=\"stroke:#000000;stroke-width:0.8;\" x=\"26.925\" xlink:href=\"#m1caa7f68ba\" y=\"49.911429\"/>\r\n      </g>\r\n     </g>\r\n     <g id=\"text_8\">\r\n      <!-- 5 -->\r\n      <g transform=\"translate(13.5625 53.710647)scale(0.1 -0.1)\">\r\n       <use xlink:href=\"#DejaVuSans-53\"/>\r\n      </g>\r\n     </g>\r\n    </g>\r\n    <g id=\"ytick_3\">\r\n     <g id=\"line2d_9\">\r\n      <g>\r\n       <use style=\"stroke:#000000;stroke-width:0.8;\" x=\"26.925\" xlink:href=\"#m1caa7f68ba\" y=\"88.74\"/>\r\n      </g>\r\n     </g>\r\n     <g id=\"text_9\">\r\n      <!-- 10 -->\r\n      <g transform=\"translate(7.2 92.539219)scale(0.1 -0.1)\">\r\n       <use xlink:href=\"#DejaVuSans-49\"/>\r\n       <use x=\"63.623047\" xlink:href=\"#DejaVuSans-48\"/>\r\n      </g>\r\n     </g>\r\n    </g>\r\n    <g id=\"ytick_4\">\r\n     <g id=\"line2d_10\">\r\n      <g>\r\n       <use style=\"stroke:#000000;stroke-width:0.8;\" x=\"26.925\" xlink:href=\"#m1caa7f68ba\" y=\"127.568571\"/>\r\n      </g>\r\n     </g>\r\n     <g id=\"text_10\">\r\n      <!-- 15 -->\r\n      <g transform=\"translate(7.2 131.36779)scale(0.1 -0.1)\">\r\n       <use xlink:href=\"#DejaVuSans-49\"/>\r\n       <use x=\"63.623047\" xlink:href=\"#DejaVuSans-53\"/>\r\n      </g>\r\n     </g>\r\n    </g>\r\n    <g id=\"ytick_5\">\r\n     <g id=\"line2d_11\">\r\n      <g>\r\n       <use style=\"stroke:#000000;stroke-width:0.8;\" x=\"26.925\" xlink:href=\"#m1caa7f68ba\" y=\"166.397143\"/>\r\n      </g>\r\n     </g>\r\n     <g id=\"text_11\">\r\n      <!-- 20 -->\r\n      <g transform=\"translate(7.2 170.196362)scale(0.1 -0.1)\">\r\n       <use xlink:href=\"#DejaVuSans-50\"/>\r\n       <use x=\"63.623047\" xlink:href=\"#DejaVuSans-48\"/>\r\n      </g>\r\n     </g>\r\n    </g>\r\n    <g id=\"ytick_6\">\r\n     <g id=\"line2d_12\">\r\n      <g>\r\n       <use style=\"stroke:#000000;stroke-width:0.8;\" x=\"26.925\" xlink:href=\"#m1caa7f68ba\" y=\"205.225714\"/>\r\n      </g>\r\n     </g>\r\n     <g id=\"text_12\">\r\n      <!-- 25 -->\r\n      <g transform=\"translate(7.2 209.024933)scale(0.1 -0.1)\">\r\n       <use xlink:href=\"#DejaVuSans-50\"/>\r\n       <use x=\"63.623047\" xlink:href=\"#DejaVuSans-53\"/>\r\n      </g>\r\n     </g>\r\n    </g>\r\n   </g>\r\n   <g id=\"patch_3\">\r\n    <path d=\"M 26.925 224.64 \r\nL 26.925 7.2 \r\n\" style=\"fill:none;stroke:#000000;stroke-linecap:square;stroke-linejoin:miter;stroke-width:0.8;\"/>\r\n   </g>\r\n   <g id=\"patch_4\">\r\n    <path d=\"M 244.365 224.64 \r\nL 244.365 7.2 \r\n\" style=\"fill:none;stroke:#000000;stroke-linecap:square;stroke-linejoin:miter;stroke-width:0.8;\"/>\r\n   </g>\r\n   <g id=\"patch_5\">\r\n    <path d=\"M 26.925 224.64 \r\nL 244.365 224.64 \r\n\" style=\"fill:none;stroke:#000000;stroke-linecap:square;stroke-linejoin:miter;stroke-width:0.8;\"/>\r\n   </g>\r\n   <g id=\"patch_6\">\r\n    <path d=\"M 26.925 7.2 \r\nL 244.365 7.2 \r\n\" style=\"fill:none;stroke:#000000;stroke-linecap:square;stroke-linejoin:miter;stroke-width:0.8;\"/>\r\n   </g>\r\n  </g>\r\n </g>\r\n <defs>\r\n  <clipPath id=\"pa8a3e135e6\">\r\n   <rect height=\"217.44\" width=\"217.44\" x=\"26.925\" y=\"7.2\"/>\r\n  </clipPath>\r\n </defs>\r\n</svg>\r\n",
      "image/png": "[encoded data removed]"
     },
     "metadata": {
      "needs_background": "light"
     }
    }
   ],
   "source": [
    "import matplotlib.pyplot as plt\n",
    "\n",
    "img = gan.generate()\n",
    "plt.imshow(img[0, :,:,0], cmap='gray')\n",
    "plt.show()"
   ]
  },
  {
   "cell_type": "code",
   "execution_count": null,
   "metadata": {},
   "outputs": [],
   "source": []
  }
 ],
 "metadata": {
  "language_info": {
   "codemirror_mode": {
    "name": "ipython",
    "version": 3
   },
   "file_extension": ".py",
   "mimetype": "text/x-python",
   "name": "python",
   "nbconvert_exporter": "python",
   "pygments_lexer": "ipython3",
   "version": "3.7.4-final"
  },
  "orig_nbformat": 2,
  "kernelspec": {
   "name": "python_defaultSpec_1594140096620",
   "display_name": "Python 3.7.6 64-bit ('venv': venv)"
  }
 },
 "nbformat": 4,
 "nbformat_minor": 2
}