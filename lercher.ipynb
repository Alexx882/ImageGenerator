{
 "cells": [
  {
   "cell_type": "markdown",
   "metadata": {},
   "source": [
    "# High-Resolution Deep Convolutional Generative Adversarial Networks\n",
    "J. D. Curtó, I. C. Zarza, Fernando de la Torre, Irwin King, Michael R. Lyu"
   ]
  },
  {
   "cell_type": "markdown",
   "metadata": {},
   "source": [
    "## Data Preparation"
   ]
  },
  {
   "cell_type": "code",
   "execution_count": 4,
   "metadata": {
    "tags": []
   },
   "outputs": [
    {
     "output_type": "stream",
     "name": "stdout",
     "text": "initially 53 urls in the dataset\nafter pruning 50 urls in the dataset\n"
    }
   ],
   "source": [
    "from crawler import crawler, purify_sources\n",
    "\n",
    "# load urls of images into local file\n",
    "crawler.run()\n",
    "purify_sources.purify()\n"
   ]
  },
  {
   "cell_type": "code",
   "execution_count": 2,
   "metadata": {
    "tags": []
   },
   "outputs": [
    {
     "output_type": "stream",
     "name": "stdout",
     "text": "Downloading:  |████████████████████████████████████████████████████████████████████████████████████████████████████| 100.0% \n"
    }
   ],
   "source": [
    "from crawler import downloader\n",
    "\n",
    "# download actual images into folder\n",
    "downloader.run()"
   ]
  },
  {
   "cell_type": "code",
   "execution_count": 1,
   "metadata": {},
   "outputs": [],
   "source": [
    "from preprocessing import cropper\n",
    "\n",
    "cropper.crop_to_face()"
   ]
  },
  {
   "cell_type": "markdown",
   "metadata": {},
   "source": [
    "## Training"
   ]
  },
  {
   "cell_type": "code",
   "execution_count": 12,
   "metadata": {},
   "outputs": [
    {
     "output_type": "execute_result",
     "data": {
      "text/plain": "(500, 28, 28, 1)"
     },
     "metadata": {},
     "execution_count": 12
    }
   ],
   "source": [
    "import tensorflow as tf\n",
    "# MNIST dataset\n",
    "(x_train, y_train), (x_test, y_test) = tf.keras.datasets.mnist.load_data()\n",
    "\n",
    "x_train = x_train.reshape(x_train.shape[0], x_train.shape[1], x_train.shape[2], 1)\n",
    "x_train = x_train[:500,]\n",
    "x_train.shape"
   ]
  },
  {
   "cell_type": "code",
   "execution_count": 42,
   "metadata": {
    "tags": []
   },
   "outputs": [
    {
     "output_type": "stream",
     "name": "stdout",
     "text": "(100,)\n"
    }
   ],
   "source": [
    "from gan.hr_dcgan import HR_DCGAN\n",
    "from gan.gan import GAN\n",
    "\n",
    "gan = HR_DCGAN(shape=(28,28,1))\n",
    "\n",
    "gan.set_training_data(x_train)"
   ]
  },
  {
   "cell_type": "code",
   "execution_count": 43,
   "metadata": {
    "tags": []
   },
   "outputs": [
    {
     "output_type": "stream",
     "name": "stdout",
     "text": "EPOCH 1.1 [D] loss: 8.205980, acc.: 7.81%]\nEPOCH 1.2 [D] loss: 7.624619, acc.: 50.00%]\nEPOCH 1.3 [D] loss: 7.624619, acc.: 50.00%]\nEPOCH 1.4 [D] loss: 7.624619, acc.: 50.00%]\nEPOCH 1.5 [D] loss: 7.624619, acc.: 50.00%]\nEPOCH 1.6 [D] loss: 7.624619, acc.: 50.00%]\nEPOCH 1.7 [D] loss: 7.624619, acc.: 50.00%]\nEPOCH 1.8 [D] loss: 7.624619, acc.: 50.00%]\nEPOCH 1.9 [D] loss: 7.624619, acc.: 50.00%]\nEPOCH 1.10 [D] loss: 7.624619, acc.: 50.00%]\nEPOCH 1.11 [D] loss: 7.624619, acc.: 50.00%]\nEPOCH 1.12 [D] loss: 7.624619, acc.: 50.00%]\nEPOCH 1.13 [D] loss: 7.624619, acc.: 50.00%]\nEPOCH 1.14 [D] loss: 7.624619, acc.: 50.00%]\nEPOCH 1.15 [D] loss: 7.624619, acc.: 50.00%]\nEPOCH 1.16 [D] loss: 7.624619, acc.: 50.00%]\nEPOCH 1.17 [D] loss: 7.624619, acc.: 50.00%]\nEPOCH 1.18 [D] loss: 7.624619, acc.: 50.00%]\nEPOCH 1.19 [D] loss: 7.624619, acc.: 50.00%]\nEPOCH 1.20 [D] loss: 7.624619, acc.: 50.00%]\nEPOCH 1.1 [G] loss: 1.524924]\nEPOCH 1.2 [G] loss: 1.524924]\nEPOCH 1.3 [G] loss: 1.524924]\nEPOCH 1.4 [G] loss: 1.524924]\nEPOCH 1.5 [G] loss: 1.524924]\nEPOCH 1.6 [G] loss: 1.524924]\nEPOCH 1.7 [G] loss: 1.524924]\nEPOCH 1.8 [G] loss: 1.524924]\nEPOCH 1.9 [G] loss: 1.524924]\nEPOCH 1.10 [G] loss: 1.524924]\nEPOCH 1.11 [G] loss: 1.524924]\nEPOCH 1.12 [G] loss: 1.524924]\nEPOCH 1.13 [G] loss: 1.524924]\nEPOCH 1.14 [G] loss: 1.524924]\nEPOCH 1.15 [G] loss: 1.524924]\nEPOCH 1.16 [G] loss: 1.524924]\nEPOCH 1.17 [G] loss: 1.524924]\nEPOCH 1.18 [G] loss: 1.524924]\nEPOCH 1.19 [G] loss: 1.524924]\nEPOCH 1.20 [G] loss: 1.524924]\nEPOCH 2.1 [D] loss: 7.624619, acc.: 50.00%]\nEPOCH 2.2 [D] loss: 7.624619, acc.: 50.00%]\nEPOCH 2.3 [D] loss: 7.624619, acc.: 50.00%]\nEPOCH 2.4 [D] loss: 7.624619, acc.: 50.00%]\nEPOCH 2.5 [D] loss: 7.624619, acc.: 50.00%]\nEPOCH 2.6 [D] loss: 7.624619, acc.: 50.00%]\nEPOCH 2.7 [D] loss: 7.624619, acc.: 50.00%]\nEPOCH 2.8 [D] loss: 7.624619, acc.: 50.00%]\nEPOCH 2.9 [D] loss: 7.624619, acc.: 50.00%]\nEPOCH 2.10 [D] loss: 7.624619, acc.: 50.00%]\nEPOCH 2.11 [D] loss: 7.624619, acc.: 50.00%]\nEPOCH 2.12 [D] loss: 7.624619, acc.: 50.00%]\nEPOCH 2.13 [D] loss: 7.624619, acc.: 50.00%]\nEPOCH 2.14 [D] loss: 7.624619, acc.: 50.00%]\nEPOCH 2.15 [D] loss: 7.624619, acc.: 50.00%]\nEPOCH 2.16 [D] loss: 7.624619, acc.: 50.00%]\nEPOCH 2.17 [D] loss: 7.624619, acc.: 50.00%]\nEPOCH 2.18 [D] loss: 7.624619, acc.: 50.00%]\nEPOCH 2.19 [D] loss: 7.624619, acc.: 50.00%]\nEPOCH 2.20 [D] loss: 7.624619, acc.: 50.00%]\nEPOCH 2.1 [G] loss: 1.524924]\nEPOCH 2.2 [G] loss: 1.524924]\nEPOCH 2.3 [G] loss: 1.524924]\nEPOCH 2.4 [G] loss: 1.524924]\nEPOCH 2.5 [G] loss: 1.524924]\nEPOCH 2.6 [G] loss: 1.524924]\nEPOCH 2.7 [G] loss: 1.524924]\nEPOCH 2.8 [G] loss: 1.524924]\nEPOCH 2.9 [G] loss: 1.524924]\nEPOCH 2.10 [G] loss: 1.524924]\nEPOCH 2.11 [G] loss: 1.524924]\nEPOCH 2.12 [G] loss: 1.524924]\nEPOCH 2.13 [G] loss: 1.524924]\nEPOCH 2.14 [G] loss: 1.524924]\nEPOCH 2.15 [G] loss: 1.524924]\nEPOCH 2.16 [G] loss: 1.524924]\nEPOCH 2.17 [G] loss: 1.524924]\nEPOCH 2.18 [G] loss: 1.524924]\nEPOCH 2.19 [G] loss: 1.524924]\nEPOCH 2.20 [G] loss: 1.524924]\nEPOCH 3.1 [D] loss: 7.624619, acc.: 50.00%]\nEPOCH 3.2 [D] loss: 7.624619, acc.: 50.00%]\nEPOCH 3.3 [D] loss: 7.624619, acc.: 50.00%]\nEPOCH 3.4 [D] loss: 7.624619, acc.: 50.00%]\nEPOCH 3.5 [D] loss: 7.624619, acc.: 50.00%]\nEPOCH 3.6 [D] loss: 7.624619, acc.: 50.00%]\nEPOCH 3.7 [D] loss: 7.624619, acc.: 50.00%]\nEPOCH 3.8 [D] loss: 7.624619, acc.: 50.00%]\nEPOCH 3.9 [D] loss: 7.624619, acc.: 50.00%]\nEPOCH 3.10 [D] loss: 7.624619, acc.: 50.00%]\nEPOCH 3.11 [D] loss: 7.624619, acc.: 50.00%]\nEPOCH 3.12 [D] loss: 7.624619, acc.: 50.00%]\nEPOCH 3.13 [D] loss: 7.624619, acc.: 50.00%]\nEPOCH 3.14 [D] loss: 7.624619, acc.: 50.00%]\nEPOCH 3.15 [D] loss: 7.624619, acc.: 50.00%]\nEPOCH 3.16 [D] loss: 7.624619, acc.: 50.00%]\nEPOCH 3.17 [D] loss: 7.624619, acc.: 50.00%]\nEPOCH 3.18 [D] loss: 7.624619, acc.: 50.00%]\nEPOCH 3.19 [D] loss: 7.624619, acc.: 50.00%]\nEPOCH 3.20 [D] loss: 7.624619, acc.: 50.00%]\nEPOCH 3.1 [G] loss: 1.524924]\nEPOCH 3.2 [G] loss: 1.524924]\nEPOCH 3.3 [G] loss: 1.524924]\nEPOCH 3.4 [G] loss: 1.524924]\nEPOCH 3.5 [G] loss: 1.524924]\nEPOCH 3.6 [G] loss: 1.524924]\nEPOCH 3.7 [G] loss: 1.524924]\nEPOCH 3.8 [G] loss: 1.524924]\nEPOCH 3.9 [G] loss: 1.524924]\nEPOCH 3.10 [G] loss: 1.524924]\nEPOCH 3.11 [G] loss: 1.524924]\nEPOCH 3.12 [G] loss: 1.524924]\nEPOCH 3.13 [G] loss: 1.524924]\nEPOCH 3.14 [G] loss: 1.524924]\nEPOCH 3.15 [G] loss: 1.524924]\nEPOCH 3.16 [G] loss: 1.524924]\nEPOCH 3.17 [G] loss: 1.524924]\nEPOCH 3.18 [G] loss: 1.524924]\nEPOCH 3.19 [G] loss: 1.524924]\nEPOCH 3.20 [G] loss: 1.524924]\nEPOCH 4.1 [D] loss: 7.624619, acc.: 50.00%]\nEPOCH 4.2 [D] loss: 7.624619, acc.: 50.00%]\nEPOCH 4.3 [D] loss: 7.624619, acc.: 50.00%]\nEPOCH 4.4 [D] loss: 7.624619, acc.: 50.00%]\nEPOCH 4.5 [D] loss: 7.624619, acc.: 50.00%]\nEPOCH 4.6 [D] loss: 7.624619, acc.: 50.00%]\nEPOCH 4.7 [D] loss: 7.624619, acc.: 50.00%]\nEPOCH 4.8 [D] loss: 7.624619, acc.: 50.00%]\nEPOCH 4.9 [D] loss: 7.624619, acc.: 50.00%]\nEPOCH 4.10 [D] loss: 7.624619, acc.: 50.00%]\nEPOCH 4.11 [D] loss: 7.624619, acc.: 50.00%]\nEPOCH 4.12 [D] loss: 7.624619, acc.: 50.00%]\nEPOCH 4.13 [D] loss: 7.624619, acc.: 50.00%]\nEPOCH 4.14 [D] loss: 7.624619, acc.: 50.00%]\nEPOCH 4.15 [D] loss: 7.624619, acc.: 50.00%]\nEPOCH 4.16 [D] loss: 7.624619, acc.: 50.00%]\nEPOCH 4.17 [D] loss: 7.624619, acc.: 50.00%]\nEPOCH 4.18 [D] loss: 7.624619, acc.: 50.00%]\nEPOCH 4.19 [D] loss: 7.624619, acc.: 50.00%]\nEPOCH 4.20 [D] loss: 7.624619, acc.: 50.00%]\nEPOCH 4.1 [G] loss: 1.524924]\nEPOCH 4.2 [G] loss: 1.524924]\nEPOCH 4.3 [G] loss: 1.524924]\nEPOCH 4.4 [G] loss: 1.524924]\nEPOCH 4.5 [G] loss: 1.524924]\nEPOCH 4.6 [G] loss: 1.524924]\nEPOCH 4.7 [G] loss: 1.524924]\nEPOCH 4.8 [G] loss: 1.524924]\nEPOCH 4.9 [G] loss: 1.524924]\nEPOCH 4.10 [G] loss: 1.524924]\nEPOCH 4.11 [G] loss: 1.524924]\nEPOCH 4.12 [G] loss: 1.524924]\nEPOCH 4.13 [G] loss: 1.524924]\nEPOCH 4.14 [G] loss: 1.524924]\nEPOCH 4.15 [G] loss: 1.524924]\nEPOCH 4.16 [G] loss: 1.524924]\nEPOCH 4.17 [G] loss: 1.524924]\nEPOCH 4.18 [G] loss: 1.524924]\nEPOCH 4.19 [G] loss: 1.524924]\nEPOCH 4.20 [G] loss: 1.524924]\nEPOCH 5.1 [D] loss: 7.624619, acc.: 50.00%]\nEPOCH 5.2 [D] loss: 7.624619, acc.: 50.00%]\nEPOCH 5.3 [D] loss: 7.624619, acc.: 50.00%]\nEPOCH 5.4 [D] loss: 7.624619, acc.: 50.00%]\nEPOCH 5.5 [D] loss: 7.624619, acc.: 50.00%]\nEPOCH 5.6 [D] loss: 7.624619, acc.: 50.00%]\nEPOCH 5.7 [D] loss: 7.624619, acc.: 50.00%]\nEPOCH 5.8 [D] loss: 7.624619, acc.: 50.00%]\nEPOCH 5.9 [D] loss: 7.624619, acc.: 50.00%]\nEPOCH 5.10 [D] loss: 7.624619, acc.: 50.00%]\nEPOCH 5.11 [D] loss: 7.624619, acc.: 50.00%]\nEPOCH 5.12 [D] loss: 7.624619, acc.: 50.00%]\nEPOCH 5.13 [D] loss: 7.624619, acc.: 50.00%]\nEPOCH 5.14 [D] loss: 7.624619, acc.: 50.00%]\nEPOCH 5.15 [D] loss: 7.624619, acc.: 50.00%]\nEPOCH 5.16 [D] loss: 7.624619, acc.: 50.00%]\nEPOCH 5.17 [D] loss: 7.624619, acc.: 50.00%]\nEPOCH 5.18 [D] loss: 7.624619, acc.: 50.00%]\nEPOCH 5.19 [D] loss: 7.624619, acc.: 50.00%]\nEPOCH 5.20 [D] loss: 7.624619, acc.: 50.00%]\nEPOCH 5.1 [G] loss: 1.524924]\nEPOCH 5.2 [G] loss: 1.524924]\nEPOCH 5.3 [G] loss: 1.524924]\nEPOCH 5.4 [G] loss: 1.524924]\nEPOCH 5.5 [G] loss: 1.524924]\nEPOCH 5.6 [G] loss: 1.524924]\nEPOCH 5.7 [G] loss: 1.524924]\nEPOCH 5.8 [G] loss: 1.524924]\nEPOCH 5.9 [G] loss: 1.524924]\nEPOCH 5.10 [G] loss: 1.524924]\nEPOCH 5.11 [G] loss: 1.524924]\nEPOCH 5.12 [G] loss: 1.524924]\nEPOCH 5.13 [G] loss: 1.524924]\nEPOCH 5.14 [G] loss: 1.524924]\nEPOCH 5.15 [G] loss: 1.524924]\nEPOCH 5.16 [G] loss: 1.524924]\nEPOCH 5.17 [G] loss: 1.524924]\nEPOCH 5.18 [G] loss: 1.524924]\nEPOCH 5.19 [G] loss: 1.524924]\nEPOCH 5.20 [G] loss: 1.524924]\n"
    }
   ],
   "source": [
    "gan.train()"
   ]
  },
  {
   "cell_type": "code",
   "execution_count": 44,
   "metadata": {
    "tags": []
   },
   "outputs": [
    {
     "output_type": "stream",
     "name": "stdout",
     "text": "Model: \"sequential_11\"\n_________________________________________________________________\nLayer (type)                 Output Shape              Param #   \n=================================================================\ndense_16 (Dense)             (None, 12544)             1254400   \n_________________________________________________________________\nbatch_normalization_24 (Batc (None, 12544)             50176     \n_________________________________________________________________\nelu_26 (ELU)                 (None, 12544)             0         \n_________________________________________________________________\nreshape_5 (Reshape)          (None, 7, 7, 256)         0         \n_________________________________________________________________\nconv2d_transpose_12 (Conv2DT (None, 7, 7, 128)         524288    \n_________________________________________________________________\nbatch_normalization_25 (Batc (None, 7, 7, 128)         512       \n_________________________________________________________________\nelu_27 (ELU)                 (None, 7, 7, 128)         0         \n_________________________________________________________________\nconv2d_transpose_13 (Conv2DT (None, 14, 14, 64)        131072    \n_________________________________________________________________\nbatch_normalization_26 (Batc (None, 14, 14, 64)        256       \n_________________________________________________________________\nelu_28 (ELU)                 (None, 14, 14, 64)        0         \n_________________________________________________________________\nconv2d_transpose_14 (Conv2DT (None, 28, 28, 1)         1024      \n_________________________________________________________________\nbatch_normalization_27 (Batc (None, 28, 28, 1)         4         \n_________________________________________________________________\nelu_29 (ELU)                 (None, 28, 28, 1)         0         \n=================================================================\nTotal params: 1,961,732\nTrainable params: 1,936,258\nNon-trainable params: 25,474\n_________________________________________________________________\n"
    }
   ],
   "source": [
    "gan.generator.summary()\n"
   ]
  },
  {
   "cell_type": "code",
   "execution_count": null,
   "metadata": {},
   "outputs": [],
   "source": []
  },
  {
   "cell_type": "code",
   "execution_count": 46,
   "metadata": {},
   "outputs": [
    {
     "output_type": "display_data",
     "data": {
      "text/plain": "<Figure size 432x288 with 1 Axes>",
      "image/svg+xml": "<?xml version=\"1.0\" encoding=\"utf-8\" standalone=\"no\"?>\r\n<!DOCTYPE svg PUBLIC \"-//W3C//DTD SVG 1.1//EN\"\r\n  \"http://www.w3.org/Graphics/SVG/1.1/DTD/svg11.dtd\">\r\n<!-- Created with matplotlib (https://matplotlib.org/) -->\r\n<svg height=\"248.518125pt\" version=\"1.1\" viewBox=\"0 0 251.565 248.518125\" width=\"251.565pt\" xmlns=\"http://www.w3.org/2000/svg\" xmlns:xlink=\"http://www.w3.org/1999/xlink\">\r\n <defs>\r\n  <style type=\"text/css\">\r\n*{stroke-linecap:butt;stroke-linejoin:round;}\r\n  </style>\r\n </defs>\r\n <g id=\"figure_1\">\r\n  <g id=\"patch_1\">\r\n   <path d=\"M 0 248.518125 \r\nL 251.565 248.518125 \r\nL 251.565 0 \r\nL 0 0 \r\nz\r\n\" style=\"fill:none;\"/>\r\n  </g>\r\n  <g id=\"axes_1\">\r\n   <g id=\"patch_2\">\r\n    <path d=\"M 26.925 224.64 \r\nL 244.365 224.64 \r\nL 244.365 7.2 \r\nL 26.925 7.2 \r\nz\r\n\" style=\"fill:#ffffff;\"/>\r\n   </g>\r\n   <g clip-path=\"url(#p3ad6efc022)\">\r\n    <image height=\"218\" id=\"image8d3a836ea2\" transform=\"scale(1 -1)translate(0 -218)\" width=\"218\" x=\"26.925\" xlink:href=\"data:image/png;base64,\r\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\" y=\"-6.64\"/>\r\n   </g>\r\n   <g id=\"matplotlib.axis_1\">\r\n    <g id=\"xtick_1\">\r\n     <g id=\"line2d_1\">\r\n      <defs>\r\n       <path d=\"M 0 0 \r\nL 0 3.5 \r\n\" id=\"m3854e69d4e\" style=\"stroke:#000000;stroke-width:0.8;\"/>\r\n      </defs>\r\n      <g>\r\n       <use style=\"stroke:#000000;stroke-width:0.8;\" x=\"30.807857\" xlink:href=\"#m3854e69d4e\" y=\"224.64\"/>\r\n      </g>\r\n     </g>\r\n     <g id=\"text_1\">\r\n      <!-- 0 -->\r\n      <defs>\r\n       <path d=\"M 31.78125 66.40625 \r\nQ 24.171875 66.40625 20.328125 58.90625 \r\nQ 16.5 51.421875 16.5 36.375 \r\nQ 16.5 21.390625 20.328125 13.890625 \r\nQ 24.171875 6.390625 31.78125 6.390625 \r\nQ 39.453125 6.390625 43.28125 13.890625 \r\nQ 47.125 21.390625 47.125 36.375 \r\nQ 47.125 51.421875 43.28125 58.90625 \r\nQ 39.453125 66.40625 31.78125 66.40625 \r\nz\r\nM 31.78125 74.21875 \r\nQ 44.046875 74.21875 50.515625 64.515625 \r\nQ 56.984375 54.828125 56.984375 36.375 \r\nQ 56.984375 17.96875 50.515625 8.265625 \r\nQ 44.046875 -1.421875 31.78125 -1.421875 \r\nQ 19.53125 -1.421875 13.0625 8.265625 \r\nQ 6.59375 17.96875 6.59375 36.375 \r\nQ 6.59375 54.828125 13.0625 64.515625 \r\nQ 19.53125 74.21875 31.78125 74.21875 \r\nz\r\n\" id=\"DejaVuSans-48\"/>\r\n      </defs>\r\n      <g transform=\"translate(27.626607 239.238437)scale(0.1 -0.1)\">\r\n       <use xlink:href=\"#DejaVuSans-48\"/>\r\n      </g>\r\n     </g>\r\n    </g>\r\n    <g id=\"xtick_2\">\r\n     <g id=\"line2d_2\">\r\n      <g>\r\n       <use style=\"stroke:#000000;stroke-width:0.8;\" x=\"69.636429\" xlink:href=\"#m3854e69d4e\" y=\"224.64\"/>\r\n      </g>\r\n     </g>\r\n     <g id=\"text_2\">\r\n      <!-- 5 -->\r\n      <defs>\r\n       <path d=\"M 10.796875 72.90625 \r\nL 49.515625 72.90625 \r\nL 49.515625 64.59375 \r\nL 19.828125 64.59375 \r\nL 19.828125 46.734375 \r\nQ 21.96875 47.46875 24.109375 47.828125 \r\nQ 26.265625 48.1875 28.421875 48.1875 \r\nQ 40.625 48.1875 47.75 41.5 \r\nQ 54.890625 34.8125 54.890625 23.390625 \r\nQ 54.890625 11.625 47.5625 5.09375 \r\nQ 40.234375 -1.421875 26.90625 -1.421875 \r\nQ 22.3125 -1.421875 17.546875 -0.640625 \r\nQ 12.796875 0.140625 7.71875 1.703125 \r\nL 7.71875 11.625 \r\nQ 12.109375 9.234375 16.796875 8.0625 \r\nQ 21.484375 6.890625 26.703125 6.890625 \r\nQ 35.15625 6.890625 40.078125 11.328125 \r\nQ 45.015625 15.765625 45.015625 23.390625 \r\nQ 45.015625 31 40.078125 35.4375 \r\nQ 35.15625 39.890625 26.703125 39.890625 \r\nQ 22.75 39.890625 18.8125 39.015625 \r\nQ 14.890625 38.140625 10.796875 36.28125 \r\nz\r\n\" id=\"DejaVuSans-53\"/>\r\n      </defs>\r\n      <g transform=\"translate(66.455179 239.238437)scale(0.1 -0.1)\">\r\n       <use xlink:href=\"#DejaVuSans-53\"/>\r\n      </g>\r\n     </g>\r\n    </g>\r\n    <g id=\"xtick_3\">\r\n     <g id=\"line2d_3\">\r\n      <g>\r\n       <use style=\"stroke:#000000;stroke-width:0.8;\" x=\"108.465\" xlink:href=\"#m3854e69d4e\" y=\"224.64\"/>\r\n      </g>\r\n     </g>\r\n     <g id=\"text_3\">\r\n      <!-- 10 -->\r\n      <defs>\r\n       <path d=\"M 12.40625 8.296875 \r\nL 28.515625 8.296875 \r\nL 28.515625 63.921875 \r\nL 10.984375 60.40625 \r\nL 10.984375 69.390625 \r\nL 28.421875 72.90625 \r\nL 38.28125 72.90625 \r\nL 38.28125 8.296875 \r\nL 54.390625 8.296875 \r\nL 54.390625 0 \r\nL 12.40625 0 \r\nz\r\n\" id=\"DejaVuSans-49\"/>\r\n      </defs>\r\n      <g transform=\"translate(102.1025 239.238437)scale(0.1 -0.1)\">\r\n       <use xlink:href=\"#DejaVuSans-49\"/>\r\n       <use x=\"63.623047\" xlink:href=\"#DejaVuSans-48\"/>\r\n      </g>\r\n     </g>\r\n    </g>\r\n    <g id=\"xtick_4\">\r\n     <g id=\"line2d_4\">\r\n      <g>\r\n       <use style=\"stroke:#000000;stroke-width:0.8;\" x=\"147.293571\" xlink:href=\"#m3854e69d4e\" y=\"224.64\"/>\r\n      </g>\r\n     </g>\r\n     <g id=\"text_4\">\r\n      <!-- 15 -->\r\n      <g transform=\"translate(140.931071 239.238437)scale(0.1 -0.1)\">\r\n       <use xlink:href=\"#DejaVuSans-49\"/>\r\n       <use x=\"63.623047\" xlink:href=\"#DejaVuSans-53\"/>\r\n      </g>\r\n     </g>\r\n    </g>\r\n    <g id=\"xtick_5\">\r\n     <g id=\"line2d_5\">\r\n      <g>\r\n       <use style=\"stroke:#000000;stroke-width:0.8;\" x=\"186.122143\" xlink:href=\"#m3854e69d4e\" y=\"224.64\"/>\r\n      </g>\r\n     </g>\r\n     <g id=\"text_5\">\r\n      <!-- 20 -->\r\n      <defs>\r\n       <path d=\"M 19.1875 8.296875 \r\nL 53.609375 8.296875 \r\nL 53.609375 0 \r\nL 7.328125 0 \r\nL 7.328125 8.296875 \r\nQ 12.9375 14.109375 22.625 23.890625 \r\nQ 32.328125 33.6875 34.8125 36.53125 \r\nQ 39.546875 41.84375 41.421875 45.53125 \r\nQ 43.3125 49.21875 43.3125 52.78125 \r\nQ 43.3125 58.59375 39.234375 62.25 \r\nQ 35.15625 65.921875 28.609375 65.921875 \r\nQ 23.96875 65.921875 18.8125 64.3125 \r\nQ 13.671875 62.703125 7.8125 59.421875 \r\nL 7.8125 69.390625 \r\nQ 13.765625 71.78125 18.9375 73 \r\nQ 24.125 74.21875 28.421875 74.21875 \r\nQ 39.75 74.21875 46.484375 68.546875 \r\nQ 53.21875 62.890625 53.21875 53.421875 \r\nQ 53.21875 48.921875 51.53125 44.890625 \r\nQ 49.859375 40.875 45.40625 35.40625 \r\nQ 44.1875 33.984375 37.640625 27.21875 \r\nQ 31.109375 20.453125 19.1875 8.296875 \r\nz\r\n\" id=\"DejaVuSans-50\"/>\r\n      </defs>\r\n      <g transform=\"translate(179.759643 239.238437)scale(0.1 -0.1)\">\r\n       <use xlink:href=\"#DejaVuSans-50\"/>\r\n       <use x=\"63.623047\" xlink:href=\"#DejaVuSans-48\"/>\r\n      </g>\r\n     </g>\r\n    </g>\r\n    <g id=\"xtick_6\">\r\n     <g id=\"line2d_6\">\r\n      <g>\r\n       <use style=\"stroke:#000000;stroke-width:0.8;\" x=\"224.950714\" xlink:href=\"#m3854e69d4e\" y=\"224.64\"/>\r\n      </g>\r\n     </g>\r\n     <g id=\"text_6\">\r\n      <!-- 25 -->\r\n      <g transform=\"translate(218.588214 239.238437)scale(0.1 -0.1)\">\r\n       <use xlink:href=\"#DejaVuSans-50\"/>\r\n       <use x=\"63.623047\" xlink:href=\"#DejaVuSans-53\"/>\r\n      </g>\r\n     </g>\r\n    </g>\r\n   </g>\r\n   <g id=\"matplotlib.axis_2\">\r\n    <g id=\"ytick_1\">\r\n     <g id=\"line2d_7\">\r\n      <defs>\r\n       <path d=\"M 0 0 \r\nL -3.5 0 \r\n\" id=\"m98c4f46676\" style=\"stroke:#000000;stroke-width:0.8;\"/>\r\n      </defs>\r\n      <g>\r\n       <use style=\"stroke:#000000;stroke-width:0.8;\" x=\"26.925\" xlink:href=\"#m98c4f46676\" y=\"11.082857\"/>\r\n      </g>\r\n     </g>\r\n     <g id=\"text_7\">\r\n      <!-- 0 -->\r\n      <g transform=\"translate(13.5625 14.882076)scale(0.1 -0.1)\">\r\n       <use xlink:href=\"#DejaVuSans-48\"/>\r\n      </g>\r\n     </g>\r\n    </g>\r\n    <g id=\"ytick_2\">\r\n     <g id=\"line2d_8\">\r\n      <g>\r\n       <use style=\"stroke:#000000;stroke-width:0.8;\" x=\"26.925\" xlink:href=\"#m98c4f46676\" y=\"49.911429\"/>\r\n      </g>\r\n     </g>\r\n     <g id=\"text_8\">\r\n      <!-- 5 -->\r\n      <g transform=\"translate(13.5625 53.710647)scale(0.1 -0.1)\">\r\n       <use xlink:href=\"#DejaVuSans-53\"/>\r\n      </g>\r\n     </g>\r\n    </g>\r\n    <g id=\"ytick_3\">\r\n     <g id=\"line2d_9\">\r\n      <g>\r\n       <use style=\"stroke:#000000;stroke-width:0.8;\" x=\"26.925\" xlink:href=\"#m98c4f46676\" y=\"88.74\"/>\r\n      </g>\r\n     </g>\r\n     <g id=\"text_9\">\r\n      <!-- 10 -->\r\n      <g transform=\"translate(7.2 92.539219)scale(0.1 -0.1)\">\r\n       <use xlink:href=\"#DejaVuSans-49\"/>\r\n       <use x=\"63.623047\" xlink:href=\"#DejaVuSans-48\"/>\r\n      </g>\r\n     </g>\r\n    </g>\r\n    <g id=\"ytick_4\">\r\n     <g id=\"line2d_10\">\r\n      <g>\r\n       <use style=\"stroke:#000000;stroke-width:0.8;\" x=\"26.925\" xlink:href=\"#m98c4f46676\" y=\"127.568571\"/>\r\n      </g>\r\n     </g>\r\n     <g id=\"text_10\">\r\n      <!-- 15 -->\r\n      <g transform=\"translate(7.2 131.36779)scale(0.1 -0.1)\">\r\n       <use xlink:href=\"#DejaVuSans-49\"/>\r\n       <use x=\"63.623047\" xlink:href=\"#DejaVuSans-53\"/>\r\n      </g>\r\n     </g>\r\n    </g>\r\n    <g id=\"ytick_5\">\r\n     <g id=\"line2d_11\">\r\n      <g>\r\n       <use style=\"stroke:#000000;stroke-width:0.8;\" x=\"26.925\" xlink:href=\"#m98c4f46676\" y=\"166.397143\"/>\r\n      </g>\r\n     </g>\r\n     <g id=\"text_11\">\r\n      <!-- 20 -->\r\n      <g transform=\"translate(7.2 170.196362)scale(0.1 -0.1)\">\r\n       <use xlink:href=\"#DejaVuSans-50\"/>\r\n       <use x=\"63.623047\" xlink:href=\"#DejaVuSans-48\"/>\r\n      </g>\r\n     </g>\r\n    </g>\r\n    <g id=\"ytick_6\">\r\n     <g id=\"line2d_12\">\r\n      <g>\r\n       <use style=\"stroke:#000000;stroke-width:0.8;\" x=\"26.925\" xlink:href=\"#m98c4f46676\" y=\"205.225714\"/>\r\n      </g>\r\n     </g>\r\n     <g id=\"text_12\">\r\n      <!-- 25 -->\r\n      <g transform=\"translate(7.2 209.024933)scale(0.1 -0.1)\">\r\n       <use xlink:href=\"#DejaVuSans-50\"/>\r\n       <use x=\"63.623047\" xlink:href=\"#DejaVuSans-53\"/>\r\n      </g>\r\n     </g>\r\n    </g>\r\n   </g>\r\n   <g id=\"patch_3\">\r\n    <path d=\"M 26.925 224.64 \r\nL 26.925 7.2 \r\n\" style=\"fill:none;stroke:#000000;stroke-linecap:square;stroke-linejoin:miter;stroke-width:0.8;\"/>\r\n   </g>\r\n   <g id=\"patch_4\">\r\n    <path d=\"M 244.365 224.64 \r\nL 244.365 7.2 \r\n\" style=\"fill:none;stroke:#000000;stroke-linecap:square;stroke-linejoin:miter;stroke-width:0.8;\"/>\r\n   </g>\r\n   <g id=\"patch_5\">\r\n    <path d=\"M 26.925 224.64 \r\nL 244.365 224.64 \r\n\" style=\"fill:none;stroke:#000000;stroke-linecap:square;stroke-linejoin:miter;stroke-width:0.8;\"/>\r\n   </g>\r\n   <g id=\"patch_6\">\r\n    <path d=\"M 26.925 7.2 \r\nL 244.365 7.2 \r\n\" style=\"fill:none;stroke:#000000;stroke-linecap:square;stroke-linejoin:miter;stroke-width:0.8;\"/>\r\n   </g>\r\n  </g>\r\n </g>\r\n <defs>\r\n  <clipPath id=\"p3ad6efc022\">\r\n   <rect height=\"217.44\" width=\"217.44\" x=\"26.925\" y=\"7.2\"/>\r\n  </clipPath>\r\n </defs>\r\n</svg>\r\n",
      "image/png": "[encoded data removed]"
     },
     "metadata": {
      "needs_background": "light"
     }
    }
   ],
   "source": [
    "import matplotlib.pyplot as plt\n",
    "\n",
    "img = gan.generate()\n",
    "plt.imshow(img[0, :,:,0], cmap='gray')\n",
    "plt.show()"
   ]
  },
  {
   "cell_type": "code",
   "execution_count": null,
   "metadata": {},
   "outputs": [],
   "source": []
  }
 ],
 "metadata": {
  "language_info": {
   "codemirror_mode": {
    "name": "ipython",
    "version": 3
   },
   "file_extension": ".py",
   "mimetype": "text/x-python",
   "name": "python",
   "nbconvert_exporter": "python",
   "pygments_lexer": "ipython3",
   "version": "3.7.4-final"
  },
  "orig_nbformat": 2,
  "kernelspec": {
   "name": "python_defaultSpec_1594127608782",
   "display_name": "Python 3.7.6 64-bit ('venv': venv)"
  }
 },
 "nbformat": 4,
 "nbformat_minor": 2
}