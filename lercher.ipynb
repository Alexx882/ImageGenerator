{
 "cells": [
  {
   "cell_type": "markdown",
   "metadata": {},
   "source": [
    "# Generative Adversarial Networks \n",
    "by Alexander Lercher"
   ]
  },
  {
   "cell_type": "markdown",
   "metadata": {},
   "source": [
    "## Tensorflow Setup"
   ]
  },
  {
   "cell_type": "code",
   "execution_count": null,
   "metadata": {},
   "outputs": [],
   "source": [
    "import tensorflow as tf\n",
    "\n",
    "# Execute this to avoid internal tf error\n",
    "physical_devices = tf.config.list_physical_devices('GPU') \n",
    "tf.config.experimental.set_memory_growth(physical_devices[0], True)"
   ]
  },
  {
   "source": [
    "## Generator for Training Data "
   ],
   "cell_type": "markdown",
   "metadata": {}
  },
  {
   "cell_type": "code",
   "execution_count": null,
   "metadata": {},
   "outputs": [],
   "source": [
    "# Simple Dataset (MNIST Handwritten Digits)\n",
    "(x_train, _), (_, _) = tf.keras.datasets.mnist.load_data()\n",
    "\n",
    "x_train = x_train.reshape(x_train.shape[0], 28, 28, 1).astype('float32')\n",
    "# Normalize the image pixels to [-1, 1] according to paper\n",
    "x_train = (x_train - 255/2.) / (255/2.) \n",
    "\n",
    "mnist_data = tf.data.Dataset.from_tensor_slices(x_train).shuffle(x_train.shape[0]).batch(128)\n",
    "\n",
    "def mnist_generator():\n",
    "    return mnist_data"
   ]
  },
  {
   "cell_type": "code",
   "execution_count": null,
   "metadata": {
    "tags": []
   },
   "outputs": [],
   "source": [
    "from training_images.training_data_provider import TrainingDataProvider\n",
    "provider = TrainingDataProvider()\n",
    "\n",
    "facial_image_generator = provider.get_all_training_images_in_batches_from_disk"
   ]
  },
  {
   "source": [
    "## Unsupervised Representation Learning with Deep Convolutional Generative Adversarial Networks\n",
    "Alec Radford, Luke Metz, Soumith Chintala\n",
    "\n",
    "https://arxiv.org/abs/1511.06434"
   ],
   "cell_type": "markdown",
   "metadata": {}
  },
  {
   "cell_type": "code",
   "execution_count": null,
   "metadata": {
    "tags": []
   },
   "outputs": [],
   "source": [
    "from gan import DCGAN_Faces\n",
    "\n",
    "gan = DCGAN_Faces()\n",
    "\n",
    "gan.set_training_data(facial_image_generator)"
   ]
  },
  {
   "cell_type": "code",
   "execution_count": null,
   "metadata": {
    "tags": []
   },
   "outputs": [],
   "source": [
    "gan.train(epochs=50)"
   ]
  },
  {
   "cell_type": "code",
   "execution_count": null,
   "metadata": {},
   "outputs": [],
   "source": [
    "gan.generate_gif()\n",
    "gan.export()"
   ]
  },
  {
   "source": [
    "## High-Resolution Deep Convolutional Generative Adversarial Networks\n",
    "J. D. Curtó, I. C. Zarza, Fernando de la Torre, Irwin King, Michael R. Lyu\n",
    "\n",
    "https://arxiv.org/abs/1711.06491"
   ],
   "cell_type": "markdown",
   "metadata": {}
  },
  {
   "cell_type": "code",
   "execution_count": null,
   "metadata": {
    "tags": []
   },
   "outputs": [],
   "source": [
    "from gan import HR_DCGAN_Faces\n",
    "\n",
    "gan = HR_DCGAN_Faces()\n",
    "\n",
    "gan.set_training_data(facial_image_generator)"
   ]
  },
  {
   "cell_type": "code",
   "execution_count": null,
   "metadata": {
    "tags": []
   },
   "outputs": [],
   "source": [
    "gan.train(epochs=50)"
   ]
  },
  {
   "cell_type": "code",
   "execution_count": null,
   "metadata": {},
   "outputs": [],
   "source": [
    "gan.generate_gif()\n",
    "gan.export()"
   ]
  },
  {
   "source": [
    "## Visualization and Debug Output"
   ],
   "cell_type": "markdown",
   "metadata": {}
  },
  {
   "cell_type": "code",
   "execution_count": null,
   "metadata": {},
   "outputs": [],
   "source": [
    "import matplotlib.pyplot as plt\n",
    "\n",
    "img = gan.generate()\n",
    "plt.imshow((img[0, :,:,0] ), cmap='gray')\n",
    "plt.show()"
   ]
  },
  {
   "cell_type": "code",
   "execution_count": null,
   "metadata": {},
   "outputs": [],
   "source": [
    "import numpy as np\n",
    "noise = np.random.normal(0, 1, (5, 100))\n",
    "batch_fake = gan.generator.predict(noise)\n",
    "\n",
    "res = gan.discriminator.predict(batch_fake)\n",
    "res"
   ]
  },
  {
   "cell_type": "code",
   "execution_count": null,
   "metadata": {},
   "outputs": [],
   "source": [
    "res = gan.discriminator.predict(x_train[0:5])\n",
    "res"
   ]
  }
 ],
 "metadata": {
  "language_info": {
   "codemirror_mode": {
    "name": "ipython",
    "version": 3
   },
   "file_extension": ".py",
   "mimetype": "text/x-python",
   "name": "python",
   "nbconvert_exporter": "python",
   "pygments_lexer": "ipython3",
   "version": "3.7.6-final"
  },
  "orig_nbformat": 2,
  "kernelspec": {
   "name": "python_defaultSpec_1600345848761",
   "display_name": "Python 3.7.6 64-bit ('venv': venv)"
  }
 },
 "nbformat": 4,
 "nbformat_minor": 2
}