{
 "cells": [
  {
   "cell_type": "markdown",
   "metadata": {},
   "source": [
    "# GAN Networks\n",
    "by Manuel Herold\n",
    "\n",
    "## Task \n",
    "\n",
    "Generate images of celebrities (CelebA dataset) via a GAN network. I will try to use a DE-GAN (https://arxiv.org/abs/1807.03923) while Alexander will use a different architecture to see which one suits the task better.\n",
    "\n",
    "## Roadmap\n",
    "\n",
    "1. Implement a VAE (Variational Autoencoder) to produce noise for the GAN\n",
    "2. Run the network on the MNIST dataset as a proof of concept and to reproduce the results in the paper\n",
    "3. Run the network on the CelebA dataset to generate the actual images of the main task\n",
    "\n",
    "## Actual Course\n",
    "\n",
    "1. Implemented a VAE (Variational Autoencoder) which maps MNIST images to a 2D latent space. See the notebook \"VAE\" for a detailed description.\n",
    "2. Found out that they claimed to use a VAE in the paper but in Table 2 is a regular autoencoder described.\n",
    "3. Implemented a regular autoencoder with the architecture stated in the paper and started training. The training failed (no real progress, loss got worse every iteration). I assume this happened because the paper stated what kind of layer they used, but all hyperparameters were missing.\n",
    "4. Implemented a reference autoencoder that achieved a decent performance. It encodes the input images (784 pixels) to a latent space consisting of 100 pixels and decodes them back. The resconstructed images look a bit washed out but that is sufficient for the DE-GAN, as it \"carries information of the real images\" (Guoqiang Zhong et al).\n",
    "5. Implemented the GAN network proposed in the paper but ran into similar problems as with the autoencoder in step 3.\n",
    "6. Used the DCGAN implemented by Alexander Lercher as basic GAN architecture and tested it once with the regular normal distributed noise (N(0,I)) and once with the \"structured\" noise achieved with the autoencoder from step 4.\n",
    "\n",
    "### Hypothesis\n",
    "\n",
    "If the authors of the paper are correct, the DCGAN with noise from the autoencoder will perform better, than the DCGAN with noise from a normal distribution.\n",
    "\n",
    "### Findings\n",
    "\n",
    "TODO"
   ]
  },
  {
   "cell_type": "code",
   "execution_count": 22,
   "metadata": {},
   "outputs": [
    {
     "data": {
      "image/png": "[encoded data removed]",
      "text/plain": [
       "<Figure size 432x288 with 1 Axes>"
      ]
     },
     "metadata": {
      "needs_background": "light"
     },
     "output_type": "display_data"
    }
   ],
   "source": [
    "import matplotlib.pyplot as plt\n",
    "import matplotlib.image as mpimg\n",
    "\n",
    "fig, ax = plt.subplots(1, 1)\n",
    "\n",
    "img = mpimg.imread('reports/herold/ae_paper_epoch_50.png')\n",
    "ax.imshow(img)\n",
    "ax.set_title(\"Output of AE after 50 epochs of training.\")\n",
    "ax.axis(\"off\")\n",
    "pass"
   ]
  },
  {
   "cell_type": "markdown",
   "metadata": {},
   "source": [
    "The output of the autoencoder which is proposed in the paper can be seen in the first image above. There are no features of the MNIST digits visible, the encoder did not pick up any information whatsoever."
   ]
  }
 ],
 "metadata": {
  "kernelspec": {
   "display_name": "Python 3",
   "language": "python",
   "name": "python3"
  },
  "language_info": {
   "codemirror_mode": {
    "name": "ipython",
    "version": 3
   },
   "file_extension": ".py",
   "mimetype": "text/x-python",
   "name": "python",
   "nbconvert_exporter": "python",
   "pygments_lexer": "ipython3",
   "version": "3.7.6"
  }
 },
 "nbformat": 4,
 "nbformat_minor": 4
}
