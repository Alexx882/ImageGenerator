{
 "cells": [
  {
   "cell_type": "markdown",
   "metadata": {},
   "source": [
    "# MNIST Autoencoder as it is proposed in the paper\n",
    "\n",
    "This model implements the autoencoder as it is stated in the paper \"Generative Adversarial Networks with Decoder-Encoder Output Noise\" by Guoqiang Zhong, Wei Gao, Yongbin Liu, Youzhao Yang in Table 2.\n",
    "\n",
    "The authors state in the paper that they used Variational Autoencoders (see also: my notebook about VAEs in the submission) but the shown in the table is a regular autoencoder. This regular autoencoder is implemented below, but the training does not perform well as it takes an immense amount of time and no convergence gets achieved.\n",
    "\n",
    "A reason for this could be that all hyperparameters needed for a replication of the experiment are missing in the paper (dropout rates, max values, ...). That makes it hard to replicate the exact experiment of the authors as a brute-force approach would be needed to do so."
   ]
  },
  {
   "cell_type": "code",
   "execution_count": 27,
   "metadata": {},
   "outputs": [],
   "source": [
    "import numpy as np\n",
    "import tensorflow as tf\n",
    "from tensorflow import keras\n",
    "from tensorflow.keras import layers\n",
    "\n",
    "load = False  # should stored weights be loaded from the disk?\n",
    "train = True  # should the model be trained? \n",
    "export = True # should the weights be exported? "
   ]
  },
  {
   "cell_type": "code",
   "execution_count": 28,
   "metadata": {},
   "outputs": [],
   "source": [
    "class AE_MNIST(keras.Model):\n",
    "    '''\n",
    "    This class represents the autoencoder (not variational!) as it is proposed in\n",
    "    , Table 2.\n",
    "    \n",
    "    The paper was written by: \n",
    "    '''\n",
    "    def __init__(self, latent_dim, path=\"vae_save\", load=False, **kwargs):\n",
    "        super(AE_MNIST, self).__init__(**kwargs)\n",
    "        \n",
    "        self.path = path\n",
    "        self.load = load\n",
    "        \n",
    "        self.encoder = self.build_encoder(latent_dim)\n",
    "        self.decoder = self.build_decoder(latent_dim)\n",
    "    \n",
    "    def export(self):\n",
    "        self.encoder.save(f\"{self.path}/encoder_weights.h5\")\n",
    "        self.decoder.save(f\"{self.path}/decoder_weights.h5\")\n",
    "    \n",
    "    def build_decoder(self, latent_dim):\n",
    "        '''\n",
    "        Build the encoder network. \n",
    "        '''\n",
    "        latent_inputs = keras.Input(shape=(latent_dim,))\n",
    "        x = layers.Dense(128, activation=\"relu\")(latent_inputs)\n",
    "        x = layers.Dense(784, activation=\"relu\")(x)\n",
    "        x = layers.Reshape((28,28,1))(x)\n",
    "        \n",
    "        x = layers.Conv2DTranspose(128, 3, activation=\"relu\", strides=2, padding=\"same\")(x)\n",
    "        x = layers.Conv2DTranspose(64, 3, activation=\"relu\", strides=2, padding=\"same\")(x)\n",
    "        x = layers.Conv2DTranspose(32, 3, activation=\"relu\", strides=2, padding=\"same\")(x)\n",
    "        x = layers.Conv2DTranspose(1, 5, activation=\"sigmoid\", padding=\"same\")(x)\n",
    "        x = layers.Flatten()(x)\n",
    "        x = layers.Dense(784)(x)\n",
    "        x = layers.Reshape((28,28,1))(x)\n",
    "        \n",
    "        decoder = keras.Model(latent_inputs, x, name=\"decoder\")\n",
    "        # decoder.summary()\n",
    "\n",
    "        if self.load:\n",
    "            decoder.load_weights(f\"{self.path}/decoder_weights.h5\")\n",
    "        \n",
    "        return decoder\n",
    "    \n",
    "    def build_encoder(self, latent_dim):\n",
    "        encoder_inputs = keras.Input(shape=(28, 28, 1))\n",
    "        x = layers.Conv2D(32, 3, activation=\"relu\", strides=2, padding=\"same\")(encoder_inputs)\n",
    "        x = layers.Conv2D(64, 3, activation=\"relu\", strides=2, padding=\"same\")(x)\n",
    "        x = layers.Conv2D(128, 3, activation=\"relu\", strides=2, padding=\"same\")(x)\n",
    "        x = layers.Dropout(0.5)(x)\n",
    "        x = layers.Flatten()(x)\n",
    "        x = layers.Dense(128, activation=\"relu\")(x)\n",
    "        \n",
    "        encoder = keras.Model(encoder_inputs, x, name=\"encoder\")\n",
    "        # encoder.summary()\n",
    "\n",
    "        if self.load:\n",
    "            encoder.load_weights(f\"{self.path}vae_save/encoder_weights.h5\")\n",
    "        \n",
    "        return encoder\n",
    "\n",
    "    def train_step(self, data):\n",
    "        if isinstance(data, tuple):\n",
    "            data = data[0]\n",
    "        with tf.GradientTape() as tape:\n",
    "            encoded = self.encoder(data)\n",
    "            reconstruction = self.decoder(encoded)\n",
    "            \n",
    "            reconstruction_loss = tf.reduce_mean(\n",
    "                keras.losses.binary_crossentropy(data, reconstruction)\n",
    "            )\n",
    "            reconstruction_loss *= 28 * 28\n",
    "            total_loss = reconstruction_loss\n",
    "        grads = tape.gradient(total_loss, self.trainable_weights)\n",
    "        self.optimizer.apply_gradients(zip(grads, self.trainable_weights))\n",
    "        return {\n",
    "            \"loss\": total_loss,\n",
    "            \"reconstruction_loss\": reconstruction_loss\n",
    "        }\n"
   ]
  },
  {
   "cell_type": "code",
   "execution_count": 29,
   "metadata": {},
   "outputs": [],
   "source": [
    "# load the MNIST data and merge training and test data\n",
    "(x_train, y_train), (x_test, _) = keras.datasets.mnist.load_data()\n",
    "mnist_digits = np.concatenate([x_train, x_test], axis=0)\n",
    "mnist_digits = np.expand_dims(mnist_digits, -1).astype(\"float32\") / 255"
   ]
  },
  {
   "cell_type": "code",
   "execution_count": 30,
   "metadata": {},
   "outputs": [],
   "source": [
    "# initialize the autoencoder and give it a path where to store images and its model\n",
    "vae = AE_MNIST(128, path=\"ae_degan_mnist\", load=load)\n",
    "vae.compile(optimizer=keras.optimizers.Adam())"
   ]
  },
  {
   "cell_type": "code",
   "execution_count": 39,
   "metadata": {},
   "outputs": [
    {
     "data": {
      "image/png": "[encoded data removed]",
      "text/plain": [
       "<Figure size 360x360 with 2 Axes>"
      ]
     },
     "metadata": {
      "needs_background": "light"
     },
     "output_type": "display_data"
    }
   ],
   "source": [
    "import matplotlib.pyplot as plt\n",
    "\n",
    "image = mnist_digits[0].reshape(-1, 28, 28, 1)\n",
    "\n",
    "encoded = vae.encoder.predict(image)\n",
    "decoded = vae.decoder.predict(encoded)\n",
    "\n",
    "import numpy as np\n",
    "import matplotlib.pyplot as plt\n",
    "\n",
    "fig=plt.figure(figsize=(5,5))\n",
    "columns = 2\n",
    "rows = 1\n",
    "for i in range(1, columns*rows +1):\n",
    "    if i == 1:\n",
    "        img = image.reshape(28,28)\n",
    "    else:\n",
    "        img = decoded.reshape(28,28)\n",
    "        \n",
    "    fig.add_subplot(rows, columns, i)\n",
    "    plt.imshow(img)\n",
    "plt.show()\n"
   ]
  },
  {
   "cell_type": "code",
   "execution_count": null,
   "metadata": {},
   "outputs": [],
   "source": [
    "# training\n",
    "if train:\n",
    "    vae.export()\n",
    "    \n",
    "    while True:\n",
    "        vae.fit(mnist_digits, epochs=1, batch_size=128)\n",
    "        vae.export()\n",
    "        "
   ]
  }
 ],
 "metadata": {
  "kernelspec": {
   "display_name": "Python 3",
   "language": "python",
   "name": "python3"
  },
  "language_info": {
   "codemirror_mode": {
    "name": "ipython",
    "version": 3
   },
   "file_extension": ".py",
   "mimetype": "text/x-python",
   "name": "python",
   "nbconvert_exporter": "python",
   "pygments_lexer": "ipython3",
   "version": "3.7.6"
  }
 },
 "nbformat": 4,
 "nbformat_minor": 4
}
